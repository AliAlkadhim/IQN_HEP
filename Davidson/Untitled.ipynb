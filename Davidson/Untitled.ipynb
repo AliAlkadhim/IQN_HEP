{
 "cells": [
  {
   "cell_type": "code",
   "execution_count": null,
   "id": "81f77586-67bd-4572-b68e-93eb005113c4",
   "metadata": {},
   "outputs": [],
   "source": []
  }
 ],
 "metadata": {
  "kernelspec": {
   "display_name": "",
   "name": ""
  },
  "language_info": {
   "name": ""
  }
 },
 "nbformat": 4,
 "nbformat_minor": 5
}
