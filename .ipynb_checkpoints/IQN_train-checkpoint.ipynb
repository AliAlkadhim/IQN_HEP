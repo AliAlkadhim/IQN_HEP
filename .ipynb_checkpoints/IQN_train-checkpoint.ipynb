{
 "cells": [
  {
   "cell_type": "markdown",
   "metadata": {
    "id": "40Yb47zJQglm"
   },
   "source": [
    "## Implicit Quantile Networks for Event Folding\n",
    "Created: June 13, 2022 Ali & Harrison<br>\n",
    "\n",
    "### Introduction \n",
    "\n"
   ]
  },
  {
   "cell_type": "code",
   "execution_count": 1,
   "metadata": {
    "id": "FA1Y5VCv20XZ"
   },
   "outputs": [],
   "source": [
    "import os, sys\n",
    "\n",
    "# the standard module for tabular data\n",
    "import pandas as pd\n",
    "\n",
    "# the standard module for array manipulation\n",
    "import numpy as np\n",
    "\n",
    "# the standard modules for high-quality plots\n",
    "import matplotlib as mp\n",
    "import matplotlib.pyplot as plt\n",
    "\n",
    "# standard scientific python module\n",
    "import scipy as sp\n",
    "import scipy.stats as st\n",
    "import scipy.optimize as op\n",
    "\n",
    "# standard symbolic algebra module\n",
    "import sympy as sm\n",
    "sm.init_printing()\n",
    "\n",
    "# module to save results\n",
    "import joblib as jb\n",
    "\n",
    "# pytorch\n",
    "import torch\n",
    "import torch.nn as nn\n",
    "\n",
    "# split data into a training set and a test set\n",
    "from sklearn.model_selection import train_test_split\n",
    "# linearly transform a feature to zero mean and unit variance\n",
    "from sklearn.preprocessing import StandardScaler\n",
    "\n",
    "# to reload modules\n",
    "import importlib\n",
    "\n",
    "%matplotlib inline"
   ]
  },
  {
   "cell_type": "code",
   "execution_count": 2,
   "metadata": {},
   "outputs": [],
   "source": [
    "# update fonts\n",
    "FONTSIZE = 18\n",
    "font = {'family' : 'serif',\n",
    "        'weight' : 'normal',\n",
    "        'size'   : FONTSIZE}\n",
    "mp.rc('font', **font)\n",
    "\n",
    "# set usetex = False if LaTex is not \n",
    "# available on your system or if the \n",
    "# rendering is too slow\n",
    "mp.rc('text', usetex=True)\n",
    "\n",
    "# set a seed to ensure reproducibility\n",
    "#seed = 128\n",
    "#rnd  = np.random.RandomState(seed)"
   ]
  },
  {
   "cell_type": "markdown",
   "metadata": {},
   "source": [
    "### Load training data"
   ]
  },
  {
   "cell_type": "code",
   "execution_count": 3,
   "metadata": {},
   "outputs": [
    {
     "name": "stdout",
     "output_type": "stream",
     "text": [
      "number of entries: 100000\n",
      "\n",
      "Columns: ['rawRecoDatapT', 'rawRecoDataeta', 'rawRecoDataphi', 'rawRecoDatam', 'RecoDatapT', 'RecoDataeta', 'RecoDataphi', 'RecoDatam', 'genDatapT', 'genDataeta', 'genDataphi', 'genDatam', 'tau']\n",
      "\n",
      "Fields: ['RecoDatapT', 'RecoDataeta', 'RecoDataphi', 'RecoDatam', 'genDatapT', 'genDataeta', 'genDataphi', 'genDatam', 'tau']\n",
      "\n",
      "Target: RecoDatapT\n",
      "\n",
      "Features: ['RecoDataeta', 'RecoDataphi', 'RecoDatam', 'genDatapT', 'genDataeta', 'genDataphi', 'genDatam', 'tau']\n"
     ]
    },
    {
     "data": {
      "text/html": [
       "<div>\n",
       "<style scoped>\n",
       "    .dataframe tbody tr th:only-of-type {\n",
       "        vertical-align: middle;\n",
       "    }\n",
       "\n",
       "    .dataframe tbody tr th {\n",
       "        vertical-align: top;\n",
       "    }\n",
       "\n",
       "    .dataframe thead th {\n",
       "        text-align: right;\n",
       "    }\n",
       "</style>\n",
       "<table border=\"1\" class=\"dataframe\">\n",
       "  <thead>\n",
       "    <tr style=\"text-align: right;\">\n",
       "      <th></th>\n",
       "      <th>RecoDatapT</th>\n",
       "      <th>RecoDataeta</th>\n",
       "      <th>RecoDataphi</th>\n",
       "      <th>RecoDatam</th>\n",
       "      <th>genDatapT</th>\n",
       "      <th>genDataeta</th>\n",
       "      <th>genDataphi</th>\n",
       "      <th>genDatam</th>\n",
       "      <th>tau</th>\n",
       "    </tr>\n",
       "  </thead>\n",
       "  <tbody>\n",
       "    <tr>\n",
       "      <th>0</th>\n",
       "      <td>40.3892</td>\n",
       "      <td>3.41479</td>\n",
       "      <td>1.47023</td>\n",
       "      <td>12.53740</td>\n",
       "      <td>45.4608</td>\n",
       "      <td>3.379820</td>\n",
       "      <td>1.470130</td>\n",
       "      <td>13.24440</td>\n",
       "      <td>0.536525</td>\n",
       "    </tr>\n",
       "    <tr>\n",
       "      <th>1</th>\n",
       "      <td>40.3892</td>\n",
       "      <td>3.41479</td>\n",
       "      <td>1.47023</td>\n",
       "      <td>12.53740</td>\n",
       "      <td>56.2643</td>\n",
       "      <td>0.811412</td>\n",
       "      <td>-1.324120</td>\n",
       "      <td>10.55060</td>\n",
       "      <td>0.130536</td>\n",
       "    </tr>\n",
       "    <tr>\n",
       "      <th>2</th>\n",
       "      <td>29.3586</td>\n",
       "      <td>-1.17862</td>\n",
       "      <td>1.84039</td>\n",
       "      <td>9.95503</td>\n",
       "      <td>34.6377</td>\n",
       "      <td>-1.131020</td>\n",
       "      <td>1.801820</td>\n",
       "      <td>7.65844</td>\n",
       "      <td>0.500162</td>\n",
       "    </tr>\n",
       "    <tr>\n",
       "      <th>3</th>\n",
       "      <td>20.9593</td>\n",
       "      <td>2.13374</td>\n",
       "      <td>-2.86886</td>\n",
       "      <td>9.55921</td>\n",
       "      <td>27.4120</td>\n",
       "      <td>-2.842550</td>\n",
       "      <td>0.345529</td>\n",
       "      <td>5.18675</td>\n",
       "      <td>0.490624</td>\n",
       "    </tr>\n",
       "    <tr>\n",
       "      <th>4</th>\n",
       "      <td>35.2909</td>\n",
       "      <td>2.96499</td>\n",
       "      <td>1.36464</td>\n",
       "      <td>10.69580</td>\n",
       "      <td>30.3263</td>\n",
       "      <td>3.040300</td>\n",
       "      <td>1.341270</td>\n",
       "      <td>5.74890</td>\n",
       "      <td>0.417064</td>\n",
       "    </tr>\n",
       "  </tbody>\n",
       "</table>\n",
       "</div>"
      ],
      "text/plain": [
       "   RecoDatapT  RecoDataeta  RecoDataphi  RecoDatam  genDatapT  genDataeta  \\\n",
       "0     40.3892      3.41479      1.47023   12.53740    45.4608    3.379820   \n",
       "1     40.3892      3.41479      1.47023   12.53740    56.2643    0.811412   \n",
       "2     29.3586     -1.17862      1.84039    9.95503    34.6377   -1.131020   \n",
       "3     20.9593      2.13374     -2.86886    9.55921    27.4120   -2.842550   \n",
       "4     35.2909      2.96499      1.36464   10.69580    30.3263    3.040300   \n",
       "\n",
       "   genDataphi  genDatam       tau  \n",
       "0    1.470130  13.24440  0.536525  \n",
       "1   -1.324120  10.55060  0.130536  \n",
       "2    1.801820   7.65844  0.500162  \n",
       "3    0.345529   5.18675  0.490624  \n",
       "4    1.341270   5.74890  0.417064  "
      ]
     },
     "execution_count": 3,
     "metadata": {},
     "output_type": "execute_result"
    }
   ],
   "source": [
    "data    = pd.read_csv('Data.csv')\n",
    "print('number of entries:', len(data))\n",
    "\n",
    "columns = list(data.columns)[1:]\n",
    "print('\\nColumns:', columns)\n",
    "\n",
    "fields  = list(data.columns)[5:]\n",
    "print('\\nFields:', fields)\n",
    "\n",
    "target  = 'RecoDatapT'\n",
    "print('\\nTarget:', target )\n",
    "\n",
    "features= [x for x in fields]\n",
    "features.remove(target)\n",
    "\n",
    "print('\\nFeatures:', features)\n",
    "\n",
    "data    = data[fields]\n",
    "data[:5]"
   ]
  },
  {
   "cell_type": "markdown",
   "metadata": {},
   "source": [
    "### Train, validation, and test sets\n",
    "There is some confusion in terminology regarding validation and test samples (or sets). We shall adhere to the defintions given here https://machinelearningmastery.com/difference-test-validation-datasets/):\n",
    "   \n",
    "  * __Training Dataset__: The sample of data used to fit the model.\n",
    "  * __Validation Dataset__: The sample of data used to decide 1) whether the fit is reasonable (e.g., the model has not been overfitted), 2) decide which of several models is the best and 3) tune model hyperparameters.\n",
    "  * __Test Dataset__: The sample of data used to provide an unbiased evaluation of a final model fit on the training dataset.\n",
    "\n",
    "The validation set will be some small fraction of the training set and can be used, for example, to decide when to stop the training."
   ]
  },
  {
   "cell_type": "code",
   "execution_count": 4,
   "metadata": {},
   "outputs": [
    {
     "name": "stdout",
     "output_type": "stream",
     "text": [
      "train set size:         75000\n",
      "validation set size:     5000\n",
      "test set size:          20000\n"
     ]
    }
   ],
   "source": [
    "# Fraction of the data assigned as test data\n",
    "fraction = 20/100\n",
    "# Split data into a part for training and a part for testing\n",
    "train_data, test_data = train_test_split(data, \n",
    "                                         test_size=fraction)\n",
    "\n",
    "# Split the training data into a part for training (fitting) and\n",
    "# a part for validating the training.\n",
    "fraction = 5/80\n",
    "train_data, valid_data = train_test_split(train_data, \n",
    "                                          test_size=fraction)\n",
    "\n",
    "# reset the indices in the dataframes and drop the old ones\n",
    "train_data = train_data.reset_index(drop=True)\n",
    "valid_data = valid_data.reset_index(drop=True)\n",
    "test_data  = test_data.reset_index(drop=True)\n",
    "\n",
    "print('train set size:        %6d' % train_data.shape[0])\n",
    "print('validation set size:   %6d' % valid_data.shape[0])\n",
    "print('test set size:         %6d' % test_data.shape[0])"
   ]
  },
  {
   "cell_type": "markdown",
   "metadata": {},
   "source": [
    "Split data into targets $t$ and inputs $\\mathbf{x}$"
   ]
  },
  {
   "cell_type": "code",
   "execution_count": 6,
   "metadata": {},
   "outputs": [
    {
     "data": {
      "image/png": "[encoded data removed]",
      "text/latex": [
       "$\\displaystyle \\left( \\left( 75000,\\right), \\  \\left( 75000, \\  8\\right)\\right)$"
      ],
      "text/plain": [
       "((75000,), (75000, 8))"
      ]
     },
     "execution_count": 6,
     "metadata": {},
     "output_type": "execute_result"
    }
   ],
   "source": [
    "def split_t_x(df, fields, scaler):\n",
    "    # change from pandas dataframe format to a numpy array\n",
    "    a   = np.array(scaler.transform(df[fields]))\n",
    "    tau = np.array(df['tau']).reshape(-1, 1)\n",
    "    a   = np.concatenate([a, tau], axis=1).T\n",
    "\n",
    "    t = a[0].T   # first field is target\n",
    "    x = a[1:].T\n",
    "    return t, x\n",
    "\n",
    "\n",
    "# create object to transform source (i.e., input) data\n",
    "# but omit tau.\n",
    "fields = columns[:-1] # transform all fields except tau\n",
    "scaler = StandardScaler()\n",
    "scaler.fit(train_data[fields])\n",
    "\n",
    "\n",
    "train_t, train_x = split_t_x(train_data, fields, scaler)\n",
    "valid_t, valid_x = split_t_x(valid_data, fields, scaler)\n",
    "test_t,  test_x  = split_t_x(test_data,  fields, scaler)\n",
    "train_t.shape, train_x.shape"
   ]
  },
  {
   "cell_type": "code",
   "execution_count": 20,
   "metadata": {},
   "outputs": [
    {
     "data": {
      "image/png": "[encoded data removed]",
      "text/latex": [
       "$\\displaystyle \\left( \\left( 75000,\\right), \\  \\left( 75000, \\  8\\right)\\right)$"
      ],
      "text/plain": [
       "((75000,), (75000, 8))"
      ]
     },
     "execution_count": 20,
     "metadata": {},
     "output_type": "execute_result"
    }
   ],
   "source": [
    "def split_t_x(df, target, source, scalers):\n",
    "    # change from pandas dataframe format to a numpy array\n",
    "    scaler_t, scaler_x = scalers\n",
    "    t = np.array(scaler_t.transform(df[target].to_numpy().reshape(-1, 1)))\n",
    "    x = np.array(scaler_x.transform(df[source]))\n",
    "    t = t.reshape(-1,)\n",
    "    return t, x\n",
    "\n",
    "# create a scaler for target\n",
    "scaler_t = StandardScaler()\n",
    "scaler_t.fit(train_data[target].to_numpy().reshape(-1, 1))\n",
    "\n",
    "# create a scaler for inputs\n",
    "scaler_x = StandardScaler()\n",
    "scaler_x.fit(train_data[features])\n",
    "# NB: undo scaling of tau, which is the last feature\n",
    "scaler_x.mean_[-1] = 0\n",
    "scaler_x.scale_[-1]= 1\n",
    "\n",
    "scalers = [scaler_t, scaler_x]\n",
    "\n",
    "train_t, train_x = split_t_x(train_data, target, features, scalers)\n",
    "valid_t, valid_x = split_t_x(valid_data, target, features, scalers)\n",
    "test_t,  test_x  = split_t_x(test_data,  target, features, scalers)\n",
    "\n",
    "train_t.shape, train_x.shape"
   ]
  },
  {
   "cell_type": "markdown",
   "metadata": {},
   "source": [
    "### Quantile regression\n",
    "\n",
    "The empirical risk, which is the __objective function__ we shall minimize, is defined as\n",
    "\n",
    "\\begin{align}\n",
    "R_M(\\theta) & = \\frac{1}{M}\\sum_{m=1}^M L(t_m, f_m),\\\\\n",
    "\\text{where } f_m & \\equiv f(\\mathbf{x}_m, \\theta) .\n",
    "\\end{align}\n",
    "\n",
    "We shall use the __quantile loss__ defined by\n",
    "\n",
    "\\begin{align}\n",
    "L(t, f) & = \\begin{cases}\n",
    "    \\tau (t - f), & \\text{if } t \\geq f \\\\\n",
    "    (1 - \\tau)(f - t)              & \\text{otherwise} .\n",
    "\\end{cases}\n",
    "\\end{align}\n",
    "\n",
    "To show that this loss function indeed leads to $\\tau$-quantiles, consider the minimization of the __risk functional__\n",
    "\n",
    "\\begin{align}\n",
    "R[f] & = \\int \\int \\, p(t, \\mathbf{x}) \\, L(t, f(\\mathbf{x}, \\theta)) \\, dt \\, d\\mathbf{x}, \\\\\n",
    "\\frac{\\delta R}{\\delta f}  & = 0 .\n",
    "\\end{align}\n",
    "\n",
    "If the above is to hold $\\forall\\,\\,\\mathbf{x}$, then \n",
    "\n",
    "\\begin{align}\n",
    "\\int \\frac{\\partial L}{\\partial f} p(t | \\mathbf{x}) \\, dt & = 0,\\\\\n",
    "-\\tau \\int_{t \\ge f} p(t | \\mathbf{x}) \\, dt + (1 - \\tau)\\int_{t < f} p(t | \\mathbf{x}) \\, dt & = 0, \\\\\n",
    "\\therefore \\quad\\int_{t < f} p(t | \\mathbf{x}) \\, dt & = \\tau.\n",
    "\\end{align}"
   ]
  },
  {
   "cell_type": "markdown",
   "metadata": {},
   "source": [
    "### Save training utilities to file SIR_dnn_util.py \n",
    "\n",
    "  1. get_batch\n",
    "  1. average_quadratic_loss\n",
    "  1. average_cross_entropy_loss\n",
    "  1. average_quantile_loss\n",
    "  1. validate\n",
    "  1. ModelHandler\n",
    "  1. train\n",
    "  1. plot_average_loss\n",
    "  1. hist_data"
   ]
  },
  {
   "cell_type": "code",
   "execution_count": 58,
   "metadata": {},
   "outputs": [
    {
     "name": "stdout",
     "output_type": "stream",
     "text": [
      "Overwriting iqnutil.py\n"
     ]
    }
   ],
   "source": [
    "%%writefile iqnutil.py\n",
    "\n",
    "import numpy as np\n",
    "\n",
    "# the standard modules for high-quality plots\n",
    "import matplotlib as mp\n",
    "import matplotlib.pyplot as plt\n",
    "\n",
    "import torch\n",
    "import torch.nn as nn\n",
    "\n",
    "# return a batch of data for the next step in minimization\n",
    "def get_batch(x, t, batch_size):\n",
    "    # the numpy function choice(length, number)\n",
    "    # selects at random \"batch_size\" integers from \n",
    "    # the range [0, length-1] corresponding to the\n",
    "    # row indices.\n",
    "    rows    = np.random.choice(len(x), batch_size)\n",
    "    batch_x = x[rows]\n",
    "    batch_t = t[rows]\n",
    "    return (batch_x, batch_t)\n",
    "\n",
    "# Note: there are several average loss functions available \n",
    "# in pytorch, but it's useful to know how to create your own.\n",
    "def average_quadratic_loss(f, t, x):\n",
    "    # f and t must be of the same shape\n",
    "    return  torch.mean((f - t)**2)\n",
    "\n",
    "def average_cross_entropy_loss(f, t, x):\n",
    "    # f and t must be of the same shape\n",
    "    loss = torch.where(t > 0.5, torch.log(f), torch.log(1 - f))\n",
    "    return -torch.mean(loss)\n",
    "\n",
    "def average_quantile_loss(f, t, x):\n",
    "    # f and t must be of the same shape\n",
    "    tau = x.T[-1] # last column is tau.\n",
    "    return torch.mean(torch.where(t >= f, \n",
    "                                  tau * (t - f), \n",
    "                                  (1 - tau)*(f - t)))\n",
    "\n",
    "# function to validate model during training.\n",
    "def validate(model, avloss, inputs, targets):\n",
    "    # make sure we set evaluation mode so that any training specific\n",
    "    # operations are disabled.\n",
    "    model.eval() # evaluation mode\n",
    "    \n",
    "    with torch.no_grad(): # no need to compute gradients wrt. x and t\n",
    "        x = torch.from_numpy(inputs).float()\n",
    "        t = torch.from_numpy(targets).float()\n",
    "        # remember to reshape!\n",
    "        o = model(x).reshape(t.shape)\n",
    "    return avloss(o, t, x)\n",
    "\n",
    "# A simple wrapper around a model to make using the latter more\n",
    "# convenient\n",
    "class ModelHandler:\n",
    "    def __init__(self, model, scalers):\n",
    "        self.model  = model\n",
    "        self.scaler_t, self.scaler_x = scalers\n",
    "        \n",
    "        self.scale  = self.scaler_t.scale_[0] # for output\n",
    "        self.mean   = self.scaler_t.mean_[0]  # for output\n",
    "        self.fields = self.scaler_x.feature_names_in_\n",
    "        \n",
    "    def __call__(self, df):\n",
    "        \n",
    "        # scale input data\n",
    "        x  = np.array(self.scaler_x.transform(df[self.fields]))\n",
    "        x  = torch.Tensor(x)\n",
    "\n",
    "        # go to evaluation mode\n",
    "        self.model.eval()\n",
    "    \n",
    "        # compute,reshape to a 1d array, and convert to a numpy array\n",
    "        Y  = self.model(x).view(-1, ).detach().numpy()\n",
    "        \n",
    "        # rescale output\n",
    "        Y  = self.mean + self.scale * Y\n",
    "        \n",
    "        if len(Y) == 1:\n",
    "            return Y[0]\n",
    "        else:\n",
    "            return Y\n",
    "        \n",
    "    def show(self):\n",
    "        for name, param in self.model.named_parameters():\n",
    "            if param.requires_grad:\n",
    "                print(name, param.data)\n",
    "                print()\n",
    "        \n",
    "def train(model, optimizer, avloss, getbatch,\n",
    "          train_x, train_t, \n",
    "          valid_x, valid_t,\n",
    "          batch_size, \n",
    "          n_iterations, traces, \n",
    "          step=50):\n",
    "    \n",
    "    # to keep track of average losses\n",
    "    xx, yy_t, yy_v = traces\n",
    "    \n",
    "    n = len(valid_x)\n",
    "    \n",
    "    print('Iteration vs average loss')\n",
    "    print(\"%10s\\t%10s\\t%10s\" % \\\n",
    "          ('iteration', 'train-set', 'valid-set'))\n",
    "    \n",
    "    for ii in range(n_iterations):\n",
    "\n",
    "        # set mode to training so that training specific \n",
    "        # operations such as dropout are enabled.\n",
    "        model.train()\n",
    "        \n",
    "        # get a random sample (a batch) of data (as numpy arrays)\n",
    "        batch_x, batch_t = getbatch(train_x, train_t, batch_size)\n",
    "        \n",
    "        # convert the numpy arrays batch_x and batch_t to tensor \n",
    "        # types. The PyTorch tensor type is the magic that permits \n",
    "        # automatic differentiation with respect to parameters. \n",
    "        # However, since we do not need to take the derivatives\n",
    "        # with respect to x and t, we disable this feature\n",
    "        with torch.no_grad(): # no need to compute gradients \n",
    "            # wrt. x and t\n",
    "            x = torch.from_numpy(batch_x).float()\n",
    "            t = torch.from_numpy(batch_t).float()      \n",
    "\n",
    "        # compute the output of the model for the batch of data x\n",
    "        # Note: outputs is \n",
    "        #   of shape (-1, 1), but the tensor targets, t, is\n",
    "        #   of shape (-1,)\n",
    "        # In order for the tensor operations with outputs and t\n",
    "        # to work correctly, it is necessary that they have the\n",
    "        # same shape. We can do this with the reshape method.\n",
    "        outputs = model(x).reshape(t.shape)\n",
    "   \n",
    "        # compute a noisy approximation to the average loss\n",
    "        empirical_risk = avloss(outputs, t, x)\n",
    "        \n",
    "        # use automatic differentiation to compute a \n",
    "        # noisy approximation of the local gradient\n",
    "        optimizer.zero_grad()       # clear previous gradients\n",
    "        empirical_risk.backward()   # compute gradients\n",
    "        \n",
    "        # finally, advance one step in the direction of steepest \n",
    "        # descent, using the noisy local gradient. \n",
    "        optimizer.step()            # move one step\n",
    "        \n",
    "        if ii % step == 0:\n",
    "            \n",
    "            acc_t = validate(model, avloss, train_x[:n], train_t[:n]) \n",
    "            acc_v = validate(model, avloss, valid_x[:n], valid_t[:n])\n",
    "\n",
    "            if len(xx) < 1:\n",
    "                xx.append(0)\n",
    "                print(\"%10d\\t%10.6f\\t%10.6f\" % \\\n",
    "                      (xx[-1], acc_t, acc_v))\n",
    "            else:\n",
    "                xx.append(xx[-1] + step)\n",
    "                print(\"\\r%10d\\t%10.6f\\t%10.6f\" % \\\n",
    "                      (xx[-1], acc_t, acc_v), end='')\n",
    "                \n",
    "            yy_t.append(acc_t)\n",
    "            yy_v.append(acc_v)\n",
    "    print()      \n",
    "    return (xx, yy_t, yy_v)\n",
    "\n",
    "def plot_average_loss(traces, ftsize=18):\n",
    "    \n",
    "    xx, yy_t, yy_v = traces\n",
    "    \n",
    "    # create an empty figure\n",
    "    fig = plt.figure(figsize=(5, 5))\n",
    "    fig.tight_layout()\n",
    "    \n",
    "    # add a subplot to it\n",
    "    nrows, ncols, index = 1,1,1\n",
    "    ax  = fig.add_subplot(nrows,ncols,index)\n",
    "\n",
    "    ax.set_title(\"Average loss\")\n",
    "    \n",
    "    ax.plot(xx, yy_t, 'b', lw=2, label='Training')\n",
    "    ax.plot(xx, yy_v, 'r', lw=2, label='Validation')\n",
    "\n",
    "    ax.set_xlabel('Iterations', fontsize=ftsize)\n",
    "    ax.set_ylabel('average loss', fontsize=ftsize)\n",
    "    ax.set_xscale('log')\n",
    "    ax.set_yscale('log')\n",
    "    ax.grid(True, which=\"both\", linestyle='-')\n",
    "    ax.legend(loc='upper right')\n",
    "\n",
    "    plt.show()"
   ]
  },
  {
   "cell_type": "code",
   "execution_count": 59,
   "metadata": {},
   "outputs": [],
   "source": [
    "import iqnutil as ut\n",
    "importlib.reload(ut);"
   ]
  },
  {
   "cell_type": "markdown",
   "metadata": {
    "id": "NJC916BU-9L6"
   },
   "source": [
    "### Define model $f(\\mathbf{x}, \\theta)$\n",
    "\n",
    "For simple models, it is sufficient to use the __Sequential__ class."
   ]
  },
  {
   "cell_type": "code",
   "execution_count": 60,
   "metadata": {},
   "outputs": [
    {
     "name": "stdout",
     "output_type": "stream",
     "text": [
      "Overwriting iqn_model.py\n"
     ]
    }
   ],
   "source": [
    "%%writefile iqn_model.py\n",
    "\n",
    "import torch\n",
    "import torch.nn as nn\n",
    "\n",
    "model = nn.Sequential(nn.Linear( 8, 50),\n",
    "                      nn.ReLU(),\n",
    "                      \n",
    "                      nn.Linear(50, 50),\n",
    "                      nn.ReLU(),\n",
    "                      \n",
    "                      nn.Linear(50, 50),\n",
    "                      nn.ReLU(), \n",
    " \n",
    "                      nn.Linear(50, 50),\n",
    "                      nn.ReLU(), \n",
    " \n",
    "                      nn.Linear(50, 1)) "
   ]
  },
  {
   "cell_type": "markdown",
   "metadata": {},
   "source": [
    "### Train!"
   ]
  },
  {
   "cell_type": "code",
   "execution_count": 71,
   "metadata": {},
   "outputs": [
    {
     "name": "stdout",
     "output_type": "stream",
     "text": [
      "Sequential(\n",
      "  (0): Linear(in_features=8, out_features=50, bias=True)\n",
      "  (1): ReLU()\n",
      "  (2): Linear(in_features=50, out_features=50, bias=True)\n",
      "  (3): ReLU()\n",
      "  (4): Linear(in_features=50, out_features=50, bias=True)\n",
      "  (5): ReLU()\n",
      "  (6): Linear(in_features=50, out_features=50, bias=True)\n",
      "  (7): ReLU()\n",
      "  (8): Linear(in_features=50, out_features=1, bias=True)\n",
      ")\n",
      "Iteration vs average loss\n",
      " iteration\t train-set\t valid-set\n",
      "         0\t  0.331211\t  0.319105\n",
      "    199990\t  0.127274\t  0.131944\n"
     ]
    },
    {
     "data": {
      "image/png": "[encoded data removed]",
      "text/plain": [
       "<Figure size 360x360 with 1 Axes>"
      ]
     },
     "metadata": {
      "needs_background": "light"
     },
     "output_type": "display_data"
    }
   ],
   "source": [
    "import iqn_model as iqn\n",
    "importlib.reload(iqn)\n",
    "model = iqn.model\n",
    "print(model)\n",
    "\n",
    "n_batch       = 50\n",
    "n_iterations  = 200000\n",
    "\n",
    "learning_rate = 2.e-4\n",
    "optimizer     = torch.optim.Adam(model.parameters(), \n",
    "                                 lr=learning_rate) \n",
    "\n",
    "traces = ([], [], [])\n",
    "traces_step = 10\n",
    "\n",
    "traces = ut.train(model, optimizer, \n",
    "                  ut.average_quantile_loss,\n",
    "                  ut.get_batch,\n",
    "                  train_x, train_t, \n",
    "                  valid_x, valid_t,\n",
    "                  n_batch, \n",
    "                  n_iterations,\n",
    "                  traces,\n",
    "                  step=traces_step)\n",
    "\n",
    "ut.plot_average_loss(traces)\n",
    "\n",
    "# save model parameter dictionary\n",
    "torch.save(model.state_dict(), 'iqn_model.dict')"
   ]
  },
  {
   "cell_type": "code",
   "execution_count": null,
   "metadata": {},
   "outputs": [
    {
     "name": "stdout",
     "output_type": "stream",
     "text": [
      "Iteration vs average loss\n",
      " iteration\t train-set\t valid-set\n",
      "    305510\t  0.122514\t  0.133468"
     ]
    }
   ],
   "source": [
    "n_batch       = 50\n",
    "n_iterations  = 200000\n",
    "\n",
    "traces = ut.train(model, optimizer, \n",
    "                  ut.average_quantile_loss,\n",
    "                  ut.get_batch,\n",
    "                  train_x, train_t, \n",
    "                  valid_x, valid_t,\n",
    "                  n_batch, \n",
    "                  n_iterations,\n",
    "                  traces,\n",
    "                  step=traces_step)\n",
    "\n",
    "ut.plot_average_loss(traces)\n",
    "\n",
    "# save model parameter dictionary\n",
    "torch.save(model.state_dict(), 'iqn_model400k.dict')"
   ]
  },
  {
   "cell_type": "code",
   "execution_count": 62,
   "metadata": {},
   "outputs": [],
   "source": [
    "dnn = ut.ModelHandler(model, scalers)"
   ]
  },
  {
   "cell_type": "markdown",
   "metadata": {},
   "source": [
    "### Plot results of trained model"
   ]
  },
  {
   "cell_type": "code",
   "execution_count": 69,
   "metadata": {},
   "outputs": [],
   "source": [
    "def plot_model(df, dnn,\n",
    "               gfile='fig_model.png', \n",
    "               fgsize=(6, 6), \n",
    "               ftsize=20):\n",
    "        \n",
    "    # ----------------------------------------------\n",
    "    # histogram RecoDatapT\n",
    "    # ----------------------------------------------\n",
    "    xmin, xmax = 20, 60\n",
    "    xbins = 80\n",
    "    xstep = (xmax - xmin)/xbins\n",
    "\n",
    "    fig, ax = plt.subplots(nrows=1, ncols=1, figsize=fgsize)\n",
    "    \n",
    "    ax.set_xlim(xmin, xmax)\n",
    "    #ax.set_ylim(ymin, ymax)\n",
    "    ax.set_xlabel(r'$p_{T}$ (GeV)', fontsize=ftsize)\n",
    "\n",
    "    ax.hist(df.RecoDatapT, \n",
    "            bins=xbins, \n",
    "            range=(xmin, xmax), alpha=0.3, color='blue')\n",
    "   \n",
    "    y = dnn(df)\n",
    "    \n",
    "    ax.hist(y, \n",
    "            bins=xbins, \n",
    "            range=(xmin, xmax), \n",
    "            alpha=0.3, \n",
    "            color='red')\n",
    "    ax.grid()\n",
    "\n",
    "    plt.tight_layout()\n",
    "    plt.savefig(gfile)\n",
    "    plt.show()"
   ]
  },
  {
   "cell_type": "code",
   "execution_count": 70,
   "metadata": {},
   "outputs": [
    {
     "data": {
      "image/png": "[encoded data removed]",
      "text/plain": [
       "<Figure size 432x432 with 1 Axes>"
      ]
     },
     "metadata": {
      "needs_background": "light"
     },
     "output_type": "display_data"
    }
   ],
   "source": [
    "plot_model(test_data, dnn)"
   ]
  },
  {
   "cell_type": "code",
   "execution_count": null,
   "metadata": {},
   "outputs": [],
   "source": []
  }
 ],
 "metadata": {
  "accelerator": "GPU",
  "colab": {
   "collapsed_sections": [],
   "name": "DRL_19_REINFORCE_Algorithm.ipynb",
   "provenance": []
  },
  "kernelspec": {
   "display_name": "Python 3 (ipykernel)",
   "language": "python",
   "name": "python3"
  },
  "language_info": {
   "codemirror_mode": {
    "name": "ipython",
    "version": 3
   },
   "file_extension": ".py",
   "mimetype": "text/x-python",
   "name": "python",
   "nbconvert_exporter": "python",
   "pygments_lexer": "ipython3",
   "version": "3.9.12"
  }
 },
 "nbformat": 4,
 "nbformat_minor": 1
}
