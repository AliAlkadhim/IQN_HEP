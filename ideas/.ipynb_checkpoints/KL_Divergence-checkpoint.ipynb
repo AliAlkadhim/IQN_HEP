{
 "cells": [
  {
   "cell_type": "code",
   "execution_count": 11,
   "id": "c630bcab-fc28-4da7-93dd-10acb93c5e4f",
   "metadata": {},
   "outputs": [],
   "source": [
    "import numpy as np\n",
    "import pandas as pd\n",
    "import matplotlib.pyplot as plt"
   ]
  },
  {
   "cell_type": "code",
   "execution_count": 7,
   "id": "2321c79b-42ab-453b-9c5f-c407ee44e336",
   "metadata": {},
   "outputs": [
    {
     "data": {
      "text/html": [
       "<div>\n",
       "<style scoped>\n",
       "    .dataframe tbody tr th:only-of-type {\n",
       "        vertical-align: middle;\n",
       "    }\n",
       "\n",
       "    .dataframe tbody tr th {\n",
       "        vertical-align: top;\n",
       "    }\n",
       "\n",
       "    .dataframe thead th {\n",
       "        text-align: right;\n",
       "    }\n",
       "</style>\n",
       "<table border=\"1\" class=\"dataframe\">\n",
       "  <thead>\n",
       "    <tr style=\"text-align: right;\">\n",
       "      <th></th>\n",
       "      <th>RecoDatapT</th>\n",
       "      <th>RecoDataeta</th>\n",
       "      <th>RecoDataphi</th>\n",
       "      <th>RecoDatam</th>\n",
       "    </tr>\n",
       "  </thead>\n",
       "  <tbody>\n",
       "    <tr>\n",
       "      <th>0</th>\n",
       "      <td>40.3892</td>\n",
       "      <td>3.41479</td>\n",
       "      <td>1.47023</td>\n",
       "      <td>12.53740</td>\n",
       "    </tr>\n",
       "    <tr>\n",
       "      <th>1</th>\n",
       "      <td>40.3892</td>\n",
       "      <td>3.41479</td>\n",
       "      <td>1.47023</td>\n",
       "      <td>12.53740</td>\n",
       "    </tr>\n",
       "    <tr>\n",
       "      <th>2</th>\n",
       "      <td>29.3586</td>\n",
       "      <td>-1.17862</td>\n",
       "      <td>1.84039</td>\n",
       "      <td>9.95503</td>\n",
       "    </tr>\n",
       "    <tr>\n",
       "      <th>3</th>\n",
       "      <td>20.9593</td>\n",
       "      <td>2.13374</td>\n",
       "      <td>-2.86886</td>\n",
       "      <td>9.55921</td>\n",
       "    </tr>\n",
       "    <tr>\n",
       "      <th>4</th>\n",
       "      <td>35.2909</td>\n",
       "      <td>2.96499</td>\n",
       "      <td>1.36464</td>\n",
       "      <td>10.69580</td>\n",
       "    </tr>\n",
       "  </tbody>\n",
       "</table>\n",
       "</div>"
      ],
      "text/plain": [
       "   RecoDatapT  RecoDataeta  RecoDataphi  RecoDatam\n",
       "0     40.3892      3.41479      1.47023   12.53740\n",
       "1     40.3892      3.41479      1.47023   12.53740\n",
       "2     29.3586     -1.17862      1.84039    9.95503\n",
       "3     20.9593      2.13374     -2.86886    9.55921\n",
       "4     35.2909      2.96499      1.36464   10.69580"
      ]
     },
     "execution_count": 7,
     "metadata": {},
     "output_type": "execute_result"
    }
   ],
   "source": [
    "data = pd.read_csv('../Data.csv')\n",
    "data = data[['RecoDatapT','RecoDataeta','RecoDataphi','RecoDatam']]\n",
    "data.head()"
   ]
  },
  {
   "cell_type": "code",
   "execution_count": 8,
   "id": "427af542-0f9a-431e-a576-2dc16656a8f7",
   "metadata": {},
   "outputs": [
    {
     "data": {
      "text/html": [
       "<div>\n",
       "<style scoped>\n",
       "    .dataframe tbody tr th:only-of-type {\n",
       "        vertical-align: middle;\n",
       "    }\n",
       "\n",
       "    .dataframe tbody tr th {\n",
       "        vertical-align: top;\n",
       "    }\n",
       "\n",
       "    .dataframe thead th {\n",
       "        text-align: right;\n",
       "    }\n",
       "</style>\n",
       "<table border=\"1\" class=\"dataframe\">\n",
       "  <thead>\n",
       "    <tr style=\"text-align: right;\">\n",
       "      <th></th>\n",
       "      <th>realpT</th>\n",
       "      <th>realera</th>\n",
       "      <th>realphi</th>\n",
       "      <th>realm</th>\n",
       "    </tr>\n",
       "  </thead>\n",
       "  <tbody>\n",
       "    <tr>\n",
       "      <th>0</th>\n",
       "      <td>40.3892</td>\n",
       "      <td>3.41479</td>\n",
       "      <td>1.47023</td>\n",
       "      <td>12.53740</td>\n",
       "    </tr>\n",
       "    <tr>\n",
       "      <th>1</th>\n",
       "      <td>40.3892</td>\n",
       "      <td>3.41479</td>\n",
       "      <td>1.47023</td>\n",
       "      <td>12.53740</td>\n",
       "    </tr>\n",
       "    <tr>\n",
       "      <th>2</th>\n",
       "      <td>29.3586</td>\n",
       "      <td>-1.17862</td>\n",
       "      <td>1.84039</td>\n",
       "      <td>9.95503</td>\n",
       "    </tr>\n",
       "    <tr>\n",
       "      <th>3</th>\n",
       "      <td>20.9593</td>\n",
       "      <td>2.13374</td>\n",
       "      <td>-2.86886</td>\n",
       "      <td>9.55921</td>\n",
       "    </tr>\n",
       "    <tr>\n",
       "      <th>4</th>\n",
       "      <td>35.2909</td>\n",
       "      <td>2.96499</td>\n",
       "      <td>1.36464</td>\n",
       "      <td>10.69580</td>\n",
       "    </tr>\n",
       "  </tbody>\n",
       "</table>\n",
       "</div>"
      ],
      "text/plain": [
       "    realpT  realera  realphi     realm\n",
       "0  40.3892  3.41479  1.47023  12.53740\n",
       "1  40.3892  3.41479  1.47023  12.53740\n",
       "2  29.3586 -1.17862  1.84039   9.95503\n",
       "3  20.9593  2.13374 -2.86886   9.55921\n",
       "4  35.2909  2.96499  1.36464  10.69580"
      ]
     },
     "execution_count": 8,
     "metadata": {},
     "output_type": "execute_result"
    }
   ],
   "source": [
    "data.columns = ['realpT','realera','realphi','realm']\n",
    "data.head()"
   ]
  },
  {
   "cell_type": "code",
   "execution_count": 18,
   "id": "df234b55-09d9-4011-9579-d6fd69b1dc62",
   "metadata": {},
   "outputs": [
    {
     "data": {
      "text/plain": [
       "(100000, 4)"
      ]
     },
     "execution_count": 18,
     "metadata": {},
     "output_type": "execute_result"
    }
   ],
   "source": [
    "data.shape"
   ]
  },
  {
   "cell_type": "code",
   "execution_count": 6,
   "id": "9b72eed4-88f8-465c-a7db-6ec9a82c2281",
   "metadata": {},
   "outputs": [
    {
     "data": {
      "text/html": [
       "<div>\n",
       "<style scoped>\n",
       "    .dataframe tbody tr th:only-of-type {\n",
       "        vertical-align: middle;\n",
       "    }\n",
       "\n",
       "    .dataframe tbody tr th {\n",
       "        vertical-align: top;\n",
       "    }\n",
       "\n",
       "    .dataframe thead th {\n",
       "        text-align: right;\n",
       "    }\n",
       "</style>\n",
       "<table border=\"1\" class=\"dataframe\">\n",
       "  <thead>\n",
       "    <tr style=\"text-align: right;\">\n",
       "      <th></th>\n",
       "      <th>predicted_pT</th>\n",
       "      <th>predicted_eta</th>\n",
       "      <th>predicted_phi</th>\n",
       "      <th>predicted_m</th>\n",
       "    </tr>\n",
       "  </thead>\n",
       "  <tbody>\n",
       "    <tr>\n",
       "      <th>0</th>\n",
       "      <td>22.128952</td>\n",
       "      <td>1.695410</td>\n",
       "      <td>-2.210394</td>\n",
       "      <td>8.398450</td>\n",
       "    </tr>\n",
       "    <tr>\n",
       "      <th>1</th>\n",
       "      <td>25.404654</td>\n",
       "      <td>-1.724494</td>\n",
       "      <td>-1.800443</td>\n",
       "      <td>7.713258</td>\n",
       "    </tr>\n",
       "    <tr>\n",
       "      <th>2</th>\n",
       "      <td>29.596598</td>\n",
       "      <td>0.248178</td>\n",
       "      <td>1.637787</td>\n",
       "      <td>8.679240</td>\n",
       "    </tr>\n",
       "    <tr>\n",
       "      <th>3</th>\n",
       "      <td>21.536783</td>\n",
       "      <td>-0.568101</td>\n",
       "      <td>-2.724383</td>\n",
       "      <td>6.020657</td>\n",
       "    </tr>\n",
       "    <tr>\n",
       "      <th>4</th>\n",
       "      <td>42.282650</td>\n",
       "      <td>-0.151822</td>\n",
       "      <td>-1.142960</td>\n",
       "      <td>7.665214</td>\n",
       "    </tr>\n",
       "  </tbody>\n",
       "</table>\n",
       "</div>"
      ],
      "text/plain": [
       "   predicted_pT  predicted_eta  predicted_phi  predicted_m\n",
       "0     22.128952       1.695410      -2.210394     8.398450\n",
       "1     25.404654      -1.724494      -1.800443     7.713258\n",
       "2     29.596598       0.248178       1.637787     8.679240\n",
       "3     21.536783      -0.568101      -2.724383     6.020657\n",
       "4     42.282650      -0.151822      -1.142960     7.665214"
      ]
     },
     "execution_count": 6,
     "metadata": {},
     "output_type": "execute_result"
    }
   ],
   "source": [
    "predicted_pt=pd.read_csv('../predicted_data/RecoDatapT_predicted.csv')['RecoDatapT_predicted']\n",
    "predicted_eta=pd.read_csv('../predicted_data/RecoDataeta_predicted.csv')['RecoDataeta_predicted']\n",
    "predicted_phi=pd.read_csv('../predicted_data/RecoDataphi_predicted.csv')['RecoDataphi_predicted']\n",
    "predicted_m=pd.read_csv('../predicted_data/RecoDatam_predicted.csv')['RecoDatam_predicted']\n",
    "predicted=pd.concat([predicted_pt, predicted_eta, predicted_phi, predicted_m],axis=1)\n",
    "predicted.columns=['predicted_pT','predicted_eta','predicted_phi','predicted_m']\n",
    "predicted.head()"
   ]
  },
  {
   "cell_type": "code",
   "execution_count": 17,
   "id": "600c37eb-53d4-4f0d-8b38-d9286139a471",
   "metadata": {},
   "outputs": [
    {
     "data": {
      "text/plain": [
       "(20000, 4)"
      ]
     },
     "execution_count": 17,
     "metadata": {},
     "output_type": "execute_result"
    }
   ],
   "source": [
    "predicted.shape"
   ]
  },
  {
   "cell_type": "code",
   "execution_count": 22,
   "id": "7b2a9f63-eac9-41a2-8a79-1323a9e34a39",
   "metadata": {},
   "outputs": [
    {
     "data": {
      "text/plain": [
       "<matplotlib.legend.Legend at 0x7fd397302310>"
      ]
     },
     "execution_count": 22,
     "metadata": {},
     "output_type": "execute_result"
    },
    {
     "data": {
      "image/png": "[encoded data removed]",
      "text/plain": [
       "<Figure size 432x288 with 1 Axes>"
      ]
     },
     "metadata": {
      "needs_background": "light"
     },
     "output_type": "display_data"
    }
   ],
   "source": [
    "# fig, ax = plt.subplots(1,4, figsize=(10,10))\n",
    "# ax = ax.flatten()\n",
    "range_pt=(20,60)\n",
    "plt.hist(data['realpT'],bins=100,label='real pT',alpha=0.3,density=True,range=range_pt)\n",
    "plt.hist(predicted['predicted_pT'],bins=100,label='predicted pT',alpha=0.3,density=True,range=range_pt)\n",
    "plt.legend()"
   ]
  },
  {
   "cell_type": "code",
   "execution_count": 25,
   "id": "72a2d6b3-571f-44c0-a2ed-e9e25ac27a0f",
   "metadata": {},
   "outputs": [
    {
     "name": "stdout",
     "output_type": "stream",
     "text": [
      "KL=  37881.05159382759\n"
     ]
    }
   ],
   "source": [
    "from scipy.special import rel_entr\n",
    "KLD = rel_entr(data['realpT'][:20000],predicted['predicted_pT'])\n",
    "print('KL= ',sum(KLD))"
   ]
  },
  {
   "cell_type": "code",
   "execution_count": 26,
   "id": "c289d016-54c8-43c7-b3b8-d96fb9e0e9eb",
   "metadata": {},
   "outputs": [
    {
     "name": "stdout",
     "output_type": "stream",
     "text": [
      "KL=  30578.59136264614\n"
     ]
    }
   ],
   "source": [
    "KLD = rel_entr(predicted['predicted_pT'],data['realpT'][:20000])\n",
    "print('KL= ',sum(KLD))"
   ]
  },
  {
   "cell_type": "code",
   "execution_count": 16,
   "id": "97a0a892-afe8-4395-9ee5-240978eed6e8",
   "metadata": {},
   "outputs": [
    {
     "data": {
      "text/plain": [
       "<matplotlib.legend.Legend at 0x7fd397aaa990>"
      ]
     },
     "execution_count": 16,
     "metadata": {},
     "output_type": "execute_result"
    },
    {
     "data": {
      "image/png": "[encoded data removed]",
      "text/plain": [
       "<Figure size 432x288 with 1 Axes>"
      ]
     },
     "metadata": {
      "needs_background": "light"
     },
     "output_type": "display_data"
    }
   ],
   "source": [
    "plt.hist(data['realphi'],bins=100,label='real pT',alpha=0.3)\n",
    "plt.hist(predicted['predicted_phi'],bins=100,label='predicted pT',alpha=0.3)\n",
    "plt.legend()"
   ]
  },
  {
   "cell_type": "code",
   "execution_count": null,
   "id": "efc21c39-65b4-4751-aabf-71292ba06d53",
   "metadata": {},
   "outputs": [],
   "source": []
  }
 ],
 "metadata": {
  "kernelspec": {
   "display_name": "Python 3 (ipykernel)",
   "language": "python",
   "name": "python3"
  },
  "language_info": {
   "codemirror_mode": {
    "name": "ipython",
    "version": 3
   },
   "file_extension": ".py",
   "mimetype": "text/x-python",
   "name": "python",
   "nbconvert_exporter": "python",
   "pygments_lexer": "ipython3",
   "version": "3.7.7"
  }
 },
 "nbformat": 4,
 "nbformat_minor": 5
}
