{
 "cells": [
  {
   "cell_type": "code",
   "execution_count": 3,
   "id": "c630bcab-fc28-4da7-93dd-10acb93c5e4f",
   "metadata": {},
   "outputs": [],
   "source": [
    "import numpy as np\n",
    "import pandas as pd\n",
    "import matplotlib.pyplot as plt\n",
    "import torch"
   ]
  },
  {
   "cell_type": "code",
   "execution_count": 5,
   "id": "2321c79b-42ab-453b-9c5f-c407ee44e336",
   "metadata": {},
   "outputs": [
    {
     "data": {
      "text/html": [
       "<div>\n",
       "<style scoped>\n",
       "    .dataframe tbody tr th:only-of-type {\n",
       "        vertical-align: middle;\n",
       "    }\n",
       "\n",
       "    .dataframe tbody tr th {\n",
       "        vertical-align: top;\n",
       "    }\n",
       "\n",
       "    .dataframe thead th {\n",
       "        text-align: right;\n",
       "    }\n",
       "</style>\n",
       "<table border=\"1\" class=\"dataframe\">\n",
       "  <thead>\n",
       "    <tr style=\"text-align: right;\">\n",
       "      <th></th>\n",
       "      <th>RecoDatapT</th>\n",
       "      <th>RecoDataeta</th>\n",
       "      <th>RecoDataphi</th>\n",
       "      <th>RecoDatam</th>\n",
       "    </tr>\n",
       "  </thead>\n",
       "  <tbody>\n",
       "    <tr>\n",
       "      <th>0</th>\n",
       "      <td>40.3892</td>\n",
       "      <td>3.41479</td>\n",
       "      <td>1.47023</td>\n",
       "      <td>12.53740</td>\n",
       "    </tr>\n",
       "    <tr>\n",
       "      <th>1</th>\n",
       "      <td>40.3892</td>\n",
       "      <td>3.41479</td>\n",
       "      <td>1.47023</td>\n",
       "      <td>12.53740</td>\n",
       "    </tr>\n",
       "    <tr>\n",
       "      <th>2</th>\n",
       "      <td>29.3586</td>\n",
       "      <td>-1.17862</td>\n",
       "      <td>1.84039</td>\n",
       "      <td>9.95503</td>\n",
       "    </tr>\n",
       "    <tr>\n",
       "      <th>3</th>\n",
       "      <td>20.9593</td>\n",
       "      <td>2.13374</td>\n",
       "      <td>-2.86886</td>\n",
       "      <td>9.55921</td>\n",
       "    </tr>\n",
       "    <tr>\n",
       "      <th>4</th>\n",
       "      <td>35.2909</td>\n",
       "      <td>2.96499</td>\n",
       "      <td>1.36464</td>\n",
       "      <td>10.69580</td>\n",
       "    </tr>\n",
       "  </tbody>\n",
       "</table>\n",
       "</div>"
      ],
      "text/plain": [
       "   RecoDatapT  RecoDataeta  RecoDataphi  RecoDatam\n",
       "0     40.3892      3.41479      1.47023   12.53740\n",
       "1     40.3892      3.41479      1.47023   12.53740\n",
       "2     29.3586     -1.17862      1.84039    9.95503\n",
       "3     20.9593      2.13374     -2.86886    9.55921\n",
       "4     35.2909      2.96499      1.36464   10.69580"
      ]
     },
     "execution_count": 5,
     "metadata": {},
     "output_type": "execute_result"
    }
   ],
   "source": [
    "data = pd.read_csv('../Data.csv')\n",
    "data = data[['RecoDatapT','RecoDataeta','RecoDataphi','RecoDatam']]\n",
    "data.head()"
   ]
  },
  {
   "cell_type": "code",
   "execution_count": 6,
   "id": "427af542-0f9a-431e-a576-2dc16656a8f7",
   "metadata": {},
   "outputs": [
    {
     "data": {
      "text/html": [
       "<div>\n",
       "<style scoped>\n",
       "    .dataframe tbody tr th:only-of-type {\n",
       "        vertical-align: middle;\n",
       "    }\n",
       "\n",
       "    .dataframe tbody tr th {\n",
       "        vertical-align: top;\n",
       "    }\n",
       "\n",
       "    .dataframe thead th {\n",
       "        text-align: right;\n",
       "    }\n",
       "</style>\n",
       "<table border=\"1\" class=\"dataframe\">\n",
       "  <thead>\n",
       "    <tr style=\"text-align: right;\">\n",
       "      <th></th>\n",
       "      <th>realpT</th>\n",
       "      <th>realeta</th>\n",
       "      <th>realphi</th>\n",
       "      <th>realm</th>\n",
       "    </tr>\n",
       "  </thead>\n",
       "  <tbody>\n",
       "    <tr>\n",
       "      <th>0</th>\n",
       "      <td>40.3892</td>\n",
       "      <td>3.41479</td>\n",
       "      <td>1.47023</td>\n",
       "      <td>12.53740</td>\n",
       "    </tr>\n",
       "    <tr>\n",
       "      <th>1</th>\n",
       "      <td>40.3892</td>\n",
       "      <td>3.41479</td>\n",
       "      <td>1.47023</td>\n",
       "      <td>12.53740</td>\n",
       "    </tr>\n",
       "    <tr>\n",
       "      <th>2</th>\n",
       "      <td>29.3586</td>\n",
       "      <td>-1.17862</td>\n",
       "      <td>1.84039</td>\n",
       "      <td>9.95503</td>\n",
       "    </tr>\n",
       "    <tr>\n",
       "      <th>3</th>\n",
       "      <td>20.9593</td>\n",
       "      <td>2.13374</td>\n",
       "      <td>-2.86886</td>\n",
       "      <td>9.55921</td>\n",
       "    </tr>\n",
       "    <tr>\n",
       "      <th>4</th>\n",
       "      <td>35.2909</td>\n",
       "      <td>2.96499</td>\n",
       "      <td>1.36464</td>\n",
       "      <td>10.69580</td>\n",
       "    </tr>\n",
       "  </tbody>\n",
       "</table>\n",
       "</div>"
      ],
      "text/plain": [
       "    realpT  realeta  realphi     realm\n",
       "0  40.3892  3.41479  1.47023  12.53740\n",
       "1  40.3892  3.41479  1.47023  12.53740\n",
       "2  29.3586 -1.17862  1.84039   9.95503\n",
       "3  20.9593  2.13374 -2.86886   9.55921\n",
       "4  35.2909  2.96499  1.36464  10.69580"
      ]
     },
     "execution_count": 6,
     "metadata": {},
     "output_type": "execute_result"
    }
   ],
   "source": [
    "data.columns = ['realpT','realeta','realphi','realm']\n",
    "data.head()"
   ]
  },
  {
   "cell_type": "code",
   "execution_count": 7,
   "id": "df234b55-09d9-4011-9579-d6fd69b1dc62",
   "metadata": {},
   "outputs": [
    {
     "data": {
      "text/plain": [
       "(100000, 4)"
      ]
     },
     "execution_count": 7,
     "metadata": {},
     "output_type": "execute_result"
    }
   ],
   "source": [
    "data.shape"
   ]
  },
  {
   "cell_type": "code",
   "execution_count": 9,
   "id": "9b72eed4-88f8-465c-a7db-6ec9a82c2281",
   "metadata": {},
   "outputs": [
    {
     "data": {
      "text/html": [
       "<div>\n",
       "<style scoped>\n",
       "    .dataframe tbody tr th:only-of-type {\n",
       "        vertical-align: middle;\n",
       "    }\n",
       "\n",
       "    .dataframe tbody tr th {\n",
       "        vertical-align: top;\n",
       "    }\n",
       "\n",
       "    .dataframe thead th {\n",
       "        text-align: right;\n",
       "    }\n",
       "</style>\n",
       "<table border=\"1\" class=\"dataframe\">\n",
       "  <thead>\n",
       "    <tr style=\"text-align: right;\">\n",
       "      <th></th>\n",
       "      <th>predicted_pT</th>\n",
       "      <th>predicted_eta</th>\n",
       "      <th>predicted_phi</th>\n",
       "      <th>predicted_m</th>\n",
       "    </tr>\n",
       "  </thead>\n",
       "  <tbody>\n",
       "    <tr>\n",
       "      <th>0</th>\n",
       "      <td>24.607350</td>\n",
       "      <td>-3.350608</td>\n",
       "      <td>-2.091106</td>\n",
       "      <td>9.677951</td>\n",
       "    </tr>\n",
       "    <tr>\n",
       "      <th>1</th>\n",
       "      <td>21.360770</td>\n",
       "      <td>-1.814661</td>\n",
       "      <td>-3.081051</td>\n",
       "      <td>5.220784</td>\n",
       "    </tr>\n",
       "    <tr>\n",
       "      <th>2</th>\n",
       "      <td>29.479628</td>\n",
       "      <td>-3.688439</td>\n",
       "      <td>1.382808</td>\n",
       "      <td>5.921267</td>\n",
       "    </tr>\n",
       "    <tr>\n",
       "      <th>3</th>\n",
       "      <td>28.382595</td>\n",
       "      <td>-1.707020</td>\n",
       "      <td>-2.617420</td>\n",
       "      <td>8.397436</td>\n",
       "    </tr>\n",
       "    <tr>\n",
       "      <th>4</th>\n",
       "      <td>29.682281</td>\n",
       "      <td>-1.263203</td>\n",
       "      <td>2.356002</td>\n",
       "      <td>5.311636</td>\n",
       "    </tr>\n",
       "  </tbody>\n",
       "</table>\n",
       "</div>"
      ],
      "text/plain": [
       "   predicted_pT  predicted_eta  predicted_phi  predicted_m\n",
       "0     24.607350      -3.350608      -2.091106     9.677951\n",
       "1     21.360770      -1.814661      -3.081051     5.220784\n",
       "2     29.479628      -3.688439       1.382808     5.921267\n",
       "3     28.382595      -1.707020      -2.617420     8.397436\n",
       "4     29.682281      -1.263203       2.356002     5.311636"
      ]
     },
     "execution_count": 9,
     "metadata": {},
     "output_type": "execute_result"
    }
   ],
   "source": [
    "predicted_pt=pd.read_csv('../predicted_data/consecutive/RecoDatapT_predicted_consecutive.csv')['RecoDatapT_predicted']\n",
    "predicted_eta=pd.read_csv('../predicted_data/consecutive/RecoDataeta_predicted_consecutive.csv')['RecoDataeta_predicted']\n",
    "predicted_phi=pd.read_csv('../predicted_data/consecutive/RecoDataphi_predicted_consecutive.csv')['RecoDataphi_predicted']\n",
    "predicted_m=pd.read_csv('../predicted_data/consecutive/RecoDatam_predicted_consecutive.csv')['RecoDatam_predicted']\n",
    "predicted=pd.concat([predicted_pt, predicted_eta, predicted_phi, predicted_m],axis=1)\n",
    "predicted.columns=['predicted_pT','predicted_eta','predicted_phi','predicted_m']\n",
    "predicted.head()"
   ]
  },
  {
   "cell_type": "code",
   "execution_count": 10,
   "id": "600c37eb-53d4-4f0d-8b38-d9286139a471",
   "metadata": {},
   "outputs": [
    {
     "data": {
      "text/plain": [
       "(20000, 4)"
      ]
     },
     "execution_count": 10,
     "metadata": {},
     "output_type": "execute_result"
    }
   ],
   "source": [
    "predicted.shape"
   ]
  },
  {
   "cell_type": "code",
   "execution_count": 11,
   "id": "9e2c4160-c37d-4050-9611-138703be205c",
   "metadata": {},
   "outputs": [],
   "source": [
    "bins_pt=[10, 15, 20, 25, 30, 35, 40, 50, 70, 100, 150, 200, 300]\n",
    "bins_eta=[-4, -3.5, -3.1, -3, -2.75, -2.5, -2.25, -2, -1.75, -1.5, -1.25, -1, -0.75, -0.5, -0.25, 0, 0.25, 0.5, 0.75, 1, 1.25, 1.5, 1.75, 2, 2.25, 2.5, 2.75, 3, 3.1, 3.5, 4, 5]\n",
    "bins_phi=np.linspace(-3.4,3.4,50)\n"
   ]
  },
  {
   "cell_type": "code",
   "execution_count": 22,
   "id": "7b2a9f63-eac9-41a2-8a79-1323a9e34a39",
   "metadata": {},
   "outputs": [
    {
     "data": {
      "text/plain": [
       "<matplotlib.legend.Legend at 0x7f99eae723d0>"
      ]
     },
     "execution_count": 22,
     "metadata": {},
     "output_type": "execute_result"
    },
    {
     "data": {
      "image/png": "[encoded data removed]",
      "text/plain": [
       "<Figure size 432x288 with 1 Axes>"
      ]
     },
     "metadata": {
      "needs_background": "light"
     },
     "output_type": "display_data"
    }
   ],
   "source": [
    "# fig, ax = plt.subplots(1,4, figsize=(10,10))\n",
    "# ax = ax.flatten()\n",
    "range_pt=(20,60)\n",
    "plt.hist(data['realpT'],bins=bins_pt,label='real pT',alpha=0.3,density=True,range=range_pt)\n",
    "plt.hist(predicted['predicted_pT'],bins=bins_pt,label='predicted pT',alpha=0.3,density=True,range=range_pt)\n",
    "plt.legend()"
   ]
  },
  {
   "cell_type": "code",
   "execution_count": null,
   "id": "17ab3bd9-7706-403c-989d-dfbf216adfea",
   "metadata": {},
   "outputs": [
    {
     "data": {
      "text/html": [
       "<div>\n",
       "<style scoped>\n",
       "    .dataframe tbody tr th:only-of-type {\n",
       "        vertical-align: middle;\n",
       "    }\n",
       "\n",
       "    .dataframe tbody tr th {\n",
       "        vertical-align: top;\n",
       "    }\n",
       "\n",
       "    .dataframe thead th {\n",
       "        text-align: right;\n",
       "    }\n",
       "</style>\n",
       "<table border=\"1\" class=\"dataframe\">\n",
       "  <thead>\n",
       "    <tr style=\"text-align: right;\">\n",
       "      <th></th>\n",
       "      <th>genDatapT</th>\n",
       "      <th>genDataeta</th>\n",
       "      <th>genDataphi</th>\n",
       "      <th>genDatam</th>\n",
       "    </tr>\n",
       "  </thead>\n",
       "  <tbody>\n",
       "    <tr>\n",
       "      <th>0</th>\n",
       "      <td>45.4608</td>\n",
       "      <td>3.379820</td>\n",
       "      <td>1.470130</td>\n",
       "      <td>13.24440</td>\n",
       "    </tr>\n",
       "    <tr>\n",
       "      <th>1</th>\n",
       "      <td>56.2643</td>\n",
       "      <td>0.811412</td>\n",
       "      <td>-1.324120</td>\n",
       "      <td>10.55060</td>\n",
       "    </tr>\n",
       "    <tr>\n",
       "      <th>2</th>\n",
       "      <td>34.6377</td>\n",
       "      <td>-1.131020</td>\n",
       "      <td>1.801820</td>\n",
       "      <td>7.65844</td>\n",
       "    </tr>\n",
       "    <tr>\n",
       "      <th>3</th>\n",
       "      <td>27.4120</td>\n",
       "      <td>-2.842550</td>\n",
       "      <td>0.345529</td>\n",
       "      <td>5.18675</td>\n",
       "    </tr>\n",
       "    <tr>\n",
       "      <th>4</th>\n",
       "      <td>30.3263</td>\n",
       "      <td>3.040300</td>\n",
       "      <td>1.341270</td>\n",
       "      <td>5.74890</td>\n",
       "    </tr>\n",
       "  </tbody>\n",
       "</table>\n",
       "</div>"
      ],
      "text/plain": [
       "   genDatapT  genDataeta  genDataphi  genDatam\n",
       "0    45.4608    3.379820    1.470130  13.24440\n",
       "1    56.2643    0.811412   -1.324120  10.55060\n",
       "2    34.6377   -1.131020    1.801820   7.65844\n",
       "3    27.4120   -2.842550    0.345529   5.18675\n",
       "4    30.3263    3.040300    1.341270   5.74890"
      ]
     },
     "execution_count": 10,
     "metadata": {},
     "output_type": "execute_result"
    }
   ],
   "source": [
    "gen_data = pd.read_csv('../Data.csv')\n",
    "gen_data=gen_data[['genDatapT','genDataeta','genDataphi','genDatam']]\n",
    "gen_data.head()"
   ]
  },
  {
   "cell_type": "code",
   "execution_count": 42,
   "id": "ea5723e9-2d8a-426c-96ff-c10a04d4541b",
   "metadata": {},
   "outputs": [
    {
     "data": {
      "text/plain": [
       "array([-4.  , -3.5 , -3.1 , -3.  , -2.75, -2.5 , -2.25, -2.  , -1.75,\n",
       "       -1.5 , -1.25, -1.  , -0.75, -0.5 , -0.25,  0.  ,  0.25,  0.5 ,\n",
       "        0.75,  1.  ,  1.25,  1.5 ,  1.75,  2.  ,  2.25,  2.5 ,  2.75,\n",
       "        3.  ,  3.1 ,  3.5 ,  4.  ,  5.  ])"
      ]
     },
     "execution_count": 42,
     "metadata": {},
     "output_type": "execute_result"
    }
   ],
   "source": [
    "eta_counts, eta_bins=np.histogram(gen_data['genDataeta'],bins=[-4, -3.5, -3.1, -3, -2.75, -2.5, -2.25, -2, -1.75, -1.5, -1.25, -1, -0.75, -0.5, -0.25, 0, 0.25, 0.5, 0.75, 1, 1.25, 1.5, 1.75, 2, 2.25, 2.5, 2.75, 3, 3.1, 3.5, 4, 5])\n",
    "eta_bins"
   ]
  },
  {
   "cell_type": "code",
   "execution_count": 38,
   "id": "9ad7b2bb-1c53-40af-8ad7-0f83817040e5",
   "metadata": {},
   "outputs": [
    {
     "data": {
      "text/plain": [
       "((32,), (31,))"
      ]
     },
     "execution_count": 38,
     "metadata": {},
     "output_type": "execute_result"
    }
   ],
   "source": [
    "eta_bins.shape, eta_counts.shape"
   ]
  },
  {
   "cell_type": "code",
   "execution_count": 41,
   "id": "0ea5e721-7ad7-4b37-9925-589a014ce67d",
   "metadata": {},
   "outputs": [],
   "source": [
    "list(eta_counts).append(0)"
   ]
  },
  {
   "cell_type": "code",
   "execution_count": null,
   "id": "a7f1b1f9-cf7d-4d04-aea6-a0b572eccc94",
   "metadata": {},
   "outputs": [],
   "source": [
    "range_phi=(-3.4,3.4)\n",
    "plt.hist(data['realphi'],bins=100,label='real eta',alpha=0.3,density=True,range=range_pt)\n",
    "plt.hist(predicted['predicted_eta'],bins=100,label='predicted eta',alpha=0.3,density=True,range=range_eta)\n",
    "plt.legend()"
   ]
  },
  {
   "cell_type": "code",
   "execution_count": 25,
   "id": "f6884252-d3c5-418f-801a-5e8b5560342e",
   "metadata": {},
   "outputs": [],
   "source": [
    "FIELDS  = {'RecoDatapT' : {\n",
    "                           'xlabel': r'$p_T$ (GeV)', \n",
    "                           'xmin': 0, \n",
    "                           'xmax':80},\n",
    "           \n",
    "           'RecoDataeta': {\n",
    "                           'xlabel': r'$\\eta$', \n",
    "                           'xmin'  : -8, \n",
    "                           'xmax'  :  8},\n",
    "           \n",
    "           'RecoDataphi': {\n",
    "                           'xlabel': r'$\\phi$',\n",
    "                           'xmin'  : -4,\n",
    "                           'xmax'  :  4},\n",
    "           \n",
    "           'RecoDatam'  : {\n",
    "                           'xlabel': r'$m$ (GeV)',\n",
    "                           'xmin'  : 0, \n",
    "                           'xmax'  :20}\n",
    "          }\n",
    "\n",
    "predicted_data_path='../predicted_data/consecutive/'\n",
    "def plot_all(data_df, label='consecutive'):\n",
    "    data = pd.read_csv(data_df)\n",
    "    data = data[['RecoDatapT','RecoDataeta','RecoDataphi','RecoDatam']]\n",
    "    data.columns = ['realpT','realeta','realphi','realm']\n",
    "    predicted_pt=pd.read_csv(predicted_data_path+'RecoDatapT_predicted_'+label+'.csv')['RecoDatapT_predicted']\n",
    "    predicted_eta=pd.read_csv(predicted_data_path+'RecoDataeta_predicted_'+label+'.csv')['RecoDataeta_predicted']\n",
    "    predicted_phi=pd.read_csv(predicted_data_path+'RecoDataphi_predicted_'+label+'.csv')['RecoDataphi_predicted']\n",
    "    predicted_m=pd.read_csv(predicted_data_path+'RecoDatam_predicted_'+label+'.csv')['RecoDatam_predicted']\n",
    "    predicted=pd.concat([predicted_pt, predicted_eta, predicted_phi, predicted_m],axis=1)\n",
    "    predicted.columns=['predicted_pT','predicted_eta','predicted_phi','predicted_m']\n",
    "    \n",
    "    fig,ax = plt.subplots(2,2,figsize=(10,10))\n",
    "    ax=ax.flatten()\n",
    "    ax[0].hist(data['realpT'],bins=bins_pt,label='real pT',alpha=0.3,density=True,range=(FIELDS['RecoDatapT']['xmin'],FIELDS['RecoDatapT']['xmax']))\n",
    "    ax[0].hist(predicted_pt,bins=bins_pt,label='IQN',alpha=0.3,density=True,range=(FIELDS['RecoDatapT']['xmin'],FIELDS['RecoDatapT']['xmax']))\n",
    "\n",
    "    ax[1].hist(data['realeta'],bins=bins_eta,label='real eta',alpha=0.3,density=True,range=(FIELDS['RecoDataeta']['xmin'],FIELDS['RecoDataeta']['xmax']))\n",
    "    ax[1].hist(predicted_eta,bins=bins_eta,label='IQN',alpha=0.3,density=True,range=(FIELDS['RecoDataeta']['xmin'],FIELDS['RecoDataeta']['xmax']))\n"
   ]
  },
  {
   "cell_type": "code",
   "execution_count": 26,
   "id": "303906de-c68f-427c-9c6e-24d2c2be6a6a",
   "metadata": {},
   "outputs": [
    {
     "data": {
      "image/png": "[encoded data removed]",
      "text/plain": [
       "<Figure size 720x720 with 4 Axes>"
      ]
     },
     "metadata": {
      "needs_background": "light"
     },
     "output_type": "display_data"
    }
   ],
   "source": [
    "data_df='../Data.csv'\n",
    "plot_all(data_df,label='consecutive')"
   ]
  },
  {
   "cell_type": "code",
   "execution_count": 19,
   "id": "28b5d955-0f46-4cc5-8d41-616a4b011738",
   "metadata": {},
   "outputs": [
    {
     "name": "stderr",
     "output_type": "stream",
     "text": [
      "/home/ali/anaconda3/lib/python3.7/site-packages/numpy/lib/histograms.py:906: RuntimeWarning: invalid value encountered in true_divide\n",
      "  return n/db/n.sum(), bin_edges\n"
     ]
    },
    {
     "data": {
      "text/plain": [
       "<matplotlib.legend.Legend at 0x7f99ebb8bd90>"
      ]
     },
     "execution_count": 19,
     "metadata": {},
     "output_type": "execute_result"
    },
    {
     "data": {
      "image/png": "[encoded data removed]",
      "text/plain": [
       "<Figure size 432x288 with 1 Axes>"
      ]
     },
     "metadata": {
      "needs_background": "light"
     },
     "output_type": "display_data"
    }
   ],
   "source": [
    "# fig, ax = plt.subplots(1,4, figsize=(10,10))\n",
    "# ax = ax.flatten()\n",
    "range_eta=(-4,4)\n",
    "plt.hist(data['realeta'],bins=100,label='real eta',alpha=0.3,density=True,range=range_pt)\n",
    "plt.hist(predicted['predicted_eta'],bins=100,label='predicted eta',alpha=0.3,density=True,range=range_eta)\n",
    "plt.legend()"
   ]
  },
  {
   "cell_type": "code",
   "execution_count": 25,
   "id": "72a2d6b3-571f-44c0-a2ed-e9e25ac27a0f",
   "metadata": {},
   "outputs": [
    {
     "name": "stdout",
     "output_type": "stream",
     "text": [
      "KL=  37881.05159382759\n"
     ]
    }
   ],
   "source": [
    "from scipy.special import rel_entr\n",
    "KLD = rel_entr(data['realpT'][:20000],predicted['predicted_pT'])\n",
    "print('KL= ',sum(KLD))"
   ]
  },
  {
   "cell_type": "code",
   "execution_count": 26,
   "id": "c289d016-54c8-43c7-b3b8-d96fb9e0e9eb",
   "metadata": {},
   "outputs": [
    {
     "name": "stdout",
     "output_type": "stream",
     "text": [
      "KL=  30578.59136264614\n"
     ]
    }
   ],
   "source": [
    "KLD = rel_entr(predicted['predicted_pT'],data['realpT'][:20000])\n",
    "print('KL= ',sum(KLD))"
   ]
  },
  {
   "cell_type": "code",
   "execution_count": 16,
   "id": "97a0a892-afe8-4395-9ee5-240978eed6e8",
   "metadata": {},
   "outputs": [
    {
     "data": {
      "text/plain": [
       "<matplotlib.legend.Legend at 0x7fd397aaa990>"
      ]
     },
     "execution_count": 16,
     "metadata": {},
     "output_type": "execute_result"
    },
    {
     "data": {
      "image/png": "[encoded data removed]",
      "text/plain": [
       "<Figure size 432x288 with 1 Axes>"
      ]
     },
     "metadata": {
      "needs_background": "light"
     },
     "output_type": "display_data"
    }
   ],
   "source": [
    "plt.hist(data['realphi'],bins=100,label='real pT',alpha=0.3)\n",
    "plt.hist(predicted['predicted_phi'],bins=100,label='predicted pT',alpha=0.3)\n",
    "plt.legend()"
   ]
  },
  {
   "cell_type": "code",
   "execution_count": null,
   "id": "efc21c39-65b4-4751-aabf-71292ba06d53",
   "metadata": {},
   "outputs": [],
   "source": []
  }
 ],
 "metadata": {
  "kernelspec": {
   "display_name": "Python 3 (ipykernel)",
   "language": "python",
   "name": "python3"
  },
  "language_info": {
   "codemirror_mode": {
    "name": "ipython",
    "version": 3
   },
   "file_extension": ".py",
   "mimetype": "text/x-python",
   "name": "python",
   "nbconvert_exporter": "python",
   "pygments_lexer": "ipython3",
   "version": "3.7.7"
  }
 },
 "nbformat": 4,
 "nbformat_minor": 5
}
