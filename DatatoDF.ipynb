{
 "cells": [
  {
   "cell_type": "code",
   "execution_count": 81,
   "id": "2881007a-bf7d-4159-b998-82fb5d920010",
   "metadata": {},
   "outputs": [],
   "source": [
    "import numpy as np\n",
    "import torch; import torch.nn as nn\n",
    "import pandas as pd"
   ]
  },
  {
   "cell_type": "code",
   "execution_count": 82,
   "id": "a2e49767-6e36-4fb3-9e63-def763aec7c9",
   "metadata": {},
   "outputs": [
    {
     "data": {
      "text/plain": [
       "(array([[29.0586  , 47.9465  , 29.52    , ..., 32.8611  , 24.8888  ,\n",
       "         38.0843  ],\n",
       "        [ 3.51197 ,  0.776638, -1.08473 , ...,  2.96541 , -0.661697,\n",
       "         -1.09276 ],\n",
       "        [ 1.50301 , -1.25197 ,  1.83423 , ...,  1.88251 , -1.24262 ,\n",
       "          1.36098 ],\n",
       "        ...,\n",
       "        [ 3.37982 ,  0.811412, -1.13102 , ...,  2.94258 , -0.672143,\n",
       "         -1.13099 ],\n",
       "        [ 1.47013 , -1.32412 ,  1.80182 , ...,  1.85921 , -1.21499 ,\n",
       "          1.33004 ],\n",
       "        [13.2444  , 10.5506  ,  7.65844 , ...,  8.8265  ,  4.87261 ,\n",
       "          3.94825 ]]),\n",
       " (12, 100000))"
      ]
     },
     "execution_count": 82,
     "metadata": {},
     "output_type": "execute_result"
    }
   ],
   "source": [
    "data = np.load('smallData.npy')\n",
    "data=data.T\n",
    "data, data.shape"
   ]
  },
  {
   "cell_type": "code",
   "execution_count": 83,
   "id": "06c95b06-ff75-411c-a5e9-23fc19a4e7ce",
   "metadata": {},
   "outputs": [
    {
     "data": {
      "text/html": [
       "<div>\n",
       "<style scoped>\n",
       "    .dataframe tbody tr th:only-of-type {\n",
       "        vertical-align: middle;\n",
       "    }\n",
       "\n",
       "    .dataframe tbody tr th {\n",
       "        vertical-align: top;\n",
       "    }\n",
       "\n",
       "    .dataframe thead th {\n",
       "        text-align: right;\n",
       "    }\n",
       "</style>\n",
       "<table border=\"1\" class=\"dataframe\">\n",
       "  <thead>\n",
       "    <tr style=\"text-align: right;\">\n",
       "      <th></th>\n",
       "      <th>0</th>\n",
       "      <th>1</th>\n",
       "      <th>2</th>\n",
       "      <th>3</th>\n",
       "    </tr>\n",
       "  </thead>\n",
       "  <tbody>\n",
       "    <tr>\n",
       "      <th>0</th>\n",
       "      <td>29.0586</td>\n",
       "      <td>3.511970</td>\n",
       "      <td>1.503010</td>\n",
       "      <td>5.69919</td>\n",
       "    </tr>\n",
       "    <tr>\n",
       "      <th>1</th>\n",
       "      <td>47.9465</td>\n",
       "      <td>0.776638</td>\n",
       "      <td>-1.251970</td>\n",
       "      <td>6.72517</td>\n",
       "    </tr>\n",
       "    <tr>\n",
       "      <th>2</th>\n",
       "      <td>29.5200</td>\n",
       "      <td>-1.084730</td>\n",
       "      <td>1.834230</td>\n",
       "      <td>4.06446</td>\n",
       "    </tr>\n",
       "    <tr>\n",
       "      <th>3</th>\n",
       "      <td>23.2719</td>\n",
       "      <td>-2.822960</td>\n",
       "      <td>0.216718</td>\n",
       "      <td>3.50878</td>\n",
       "    </tr>\n",
       "    <tr>\n",
       "      <th>4</th>\n",
       "      <td>30.4644</td>\n",
       "      <td>2.985000</td>\n",
       "      <td>1.306930</td>\n",
       "      <td>4.11101</td>\n",
       "    </tr>\n",
       "  </tbody>\n",
       "</table>\n",
       "</div>"
      ],
      "text/plain": [
       "         0         1         2        3\n",
       "0  29.0586  3.511970  1.503010  5.69919\n",
       "1  47.9465  0.776638 -1.251970  6.72517\n",
       "2  29.5200 -1.084730  1.834230  4.06446\n",
       "3  23.2719 -2.822960  0.216718  3.50878\n",
       "4  30.4644  2.985000  1.306930  4.11101"
      ]
     },
     "execution_count": 83,
     "metadata": {},
     "output_type": "execute_result"
    }
   ],
   "source": [
    "rawRecoData=data[0:4,:].T\n",
    "pd.DataFrame(rawRecoData).head()"
   ]
  },
  {
   "cell_type": "code",
   "execution_count": 84,
   "id": "4c660ff1-7f45-4aa7-b6ab-32e4ca33b2b1",
   "metadata": {},
   "outputs": [
    {
     "data": {
      "text/html": [
       "<div>\n",
       "<style scoped>\n",
       "    .dataframe tbody tr th:only-of-type {\n",
       "        vertical-align: middle;\n",
       "    }\n",
       "\n",
       "    .dataframe tbody tr th {\n",
       "        vertical-align: top;\n",
       "    }\n",
       "\n",
       "    .dataframe thead th {\n",
       "        text-align: right;\n",
       "    }\n",
       "</style>\n",
       "<table border=\"1\" class=\"dataframe\">\n",
       "  <thead>\n",
       "    <tr style=\"text-align: right;\">\n",
       "      <th></th>\n",
       "      <th>0</th>\n",
       "      <th>1</th>\n",
       "      <th>2</th>\n",
       "      <th>3</th>\n",
       "    </tr>\n",
       "  </thead>\n",
       "  <tbody>\n",
       "    <tr>\n",
       "      <th>0</th>\n",
       "      <td>29.0586</td>\n",
       "      <td>3.511970</td>\n",
       "      <td>1.503010</td>\n",
       "      <td>5.69919</td>\n",
       "    </tr>\n",
       "    <tr>\n",
       "      <th>1</th>\n",
       "      <td>47.9465</td>\n",
       "      <td>0.776638</td>\n",
       "      <td>-1.251970</td>\n",
       "      <td>6.72517</td>\n",
       "    </tr>\n",
       "    <tr>\n",
       "      <th>2</th>\n",
       "      <td>29.5200</td>\n",
       "      <td>-1.084730</td>\n",
       "      <td>1.834230</td>\n",
       "      <td>4.06446</td>\n",
       "    </tr>\n",
       "    <tr>\n",
       "      <th>3</th>\n",
       "      <td>23.2719</td>\n",
       "      <td>-2.822960</td>\n",
       "      <td>0.216718</td>\n",
       "      <td>3.50878</td>\n",
       "    </tr>\n",
       "    <tr>\n",
       "      <th>4</th>\n",
       "      <td>30.4644</td>\n",
       "      <td>2.985000</td>\n",
       "      <td>1.306930</td>\n",
       "      <td>4.11101</td>\n",
       "    </tr>\n",
       "  </tbody>\n",
       "</table>\n",
       "</div>"
      ],
      "text/plain": [
       "         0         1         2        3\n",
       "0  29.0586  3.511970  1.503010  5.69919\n",
       "1  47.9465  0.776638 -1.251970  6.72517\n",
       "2  29.5200 -1.084730  1.834230  4.06446\n",
       "3  23.2719 -2.822960  0.216718  3.50878\n",
       "4  30.4644  2.985000  1.306930  4.11101"
      ]
     },
     "execution_count": 84,
     "metadata": {},
     "output_type": "execute_result"
    }
   ],
   "source": [
    "recoData = data[4:8,:].T\n",
    "pd.DataFrame(rawRecoData).head()"
   ]
  },
  {
   "cell_type": "code",
   "execution_count": 85,
   "id": "e97f5cef-3bc2-4773-b6be-541d9663125f",
   "metadata": {},
   "outputs": [
    {
     "data": {
      "text/html": [
       "<div>\n",
       "<style scoped>\n",
       "    .dataframe tbody tr th:only-of-type {\n",
       "        vertical-align: middle;\n",
       "    }\n",
       "\n",
       "    .dataframe tbody tr th {\n",
       "        vertical-align: top;\n",
       "    }\n",
       "\n",
       "    .dataframe thead th {\n",
       "        text-align: right;\n",
       "    }\n",
       "</style>\n",
       "<table border=\"1\" class=\"dataframe\">\n",
       "  <thead>\n",
       "    <tr style=\"text-align: right;\">\n",
       "      <th></th>\n",
       "      <th>0</th>\n",
       "      <th>1</th>\n",
       "      <th>2</th>\n",
       "      <th>3</th>\n",
       "    </tr>\n",
       "  </thead>\n",
       "  <tbody>\n",
       "    <tr>\n",
       "      <th>0</th>\n",
       "      <td>45.4608</td>\n",
       "      <td>3.379820</td>\n",
       "      <td>1.470130</td>\n",
       "      <td>13.24440</td>\n",
       "    </tr>\n",
       "    <tr>\n",
       "      <th>1</th>\n",
       "      <td>56.2643</td>\n",
       "      <td>0.811412</td>\n",
       "      <td>-1.324120</td>\n",
       "      <td>10.55060</td>\n",
       "    </tr>\n",
       "    <tr>\n",
       "      <th>2</th>\n",
       "      <td>34.6377</td>\n",
       "      <td>-1.131020</td>\n",
       "      <td>1.801820</td>\n",
       "      <td>7.65844</td>\n",
       "    </tr>\n",
       "    <tr>\n",
       "      <th>3</th>\n",
       "      <td>27.4120</td>\n",
       "      <td>-2.842550</td>\n",
       "      <td>0.345529</td>\n",
       "      <td>5.18675</td>\n",
       "    </tr>\n",
       "    <tr>\n",
       "      <th>4</th>\n",
       "      <td>30.3263</td>\n",
       "      <td>3.040300</td>\n",
       "      <td>1.341270</td>\n",
       "      <td>5.74890</td>\n",
       "    </tr>\n",
       "  </tbody>\n",
       "</table>\n",
       "</div>"
      ],
      "text/plain": [
       "         0         1         2         3\n",
       "0  45.4608  3.379820  1.470130  13.24440\n",
       "1  56.2643  0.811412 -1.324120  10.55060\n",
       "2  34.6377 -1.131020  1.801820   7.65844\n",
       "3  27.4120 -2.842550  0.345529   5.18675\n",
       "4  30.3263  3.040300  1.341270   5.74890"
      ]
     },
     "execution_count": 85,
     "metadata": {},
     "output_type": "execute_result"
    }
   ],
   "source": [
    "genData = data[8:12,:].T\n",
    "pd.DataFrame(genData).head()"
   ]
  },
  {
   "cell_type": "code",
   "execution_count": 86,
   "id": "d7f6718b-1337-48f0-a280-028e0edd3111",
   "metadata": {},
   "outputs": [
    {
     "data": {
      "text/plain": [
       "['rawRecoDatapT',\n",
       " 'rawRecoDataeta',\n",
       " 'rawRecoDataphi',\n",
       " 'rawRecoDatam',\n",
       " 'RecoDatapT',\n",
       " 'RecoDataeta',\n",
       " 'RecoDataphi',\n",
       " 'RecoDatam',\n",
       " 'genDatapT',\n",
       " 'genDataeta',\n",
       " 'genDataphi',\n",
       " 'genDatam']"
      ]
     },
     "execution_count": 86,
     "metadata": {},
     "output_type": "execute_result"
    }
   ],
   "source": [
    "df = pd.DataFrame(data[0:12,:].T)\n",
    "\n",
    "levels = ['rawRecoData', 'RecoData', 'genData']\n",
    "kinematics=['pT','eta','phi','m']\n",
    "\n",
    "columns = [level+k for level in levels for k in kinematics]\n",
    "columns"
   ]
  },
  {
   "cell_type": "code",
   "execution_count": 87,
   "id": "cdc83034-41e3-44ff-90b6-6204702f110f",
   "metadata": {},
   "outputs": [
    {
     "data": {
      "text/html": [
       "<div>\n",
       "<style scoped>\n",
       "    .dataframe tbody tr th:only-of-type {\n",
       "        vertical-align: middle;\n",
       "    }\n",
       "\n",
       "    .dataframe tbody tr th {\n",
       "        vertical-align: top;\n",
       "    }\n",
       "\n",
       "    .dataframe thead th {\n",
       "        text-align: right;\n",
       "    }\n",
       "</style>\n",
       "<table border=\"1\" class=\"dataframe\">\n",
       "  <thead>\n",
       "    <tr style=\"text-align: right;\">\n",
       "      <th></th>\n",
       "      <th>0</th>\n",
       "      <th>1</th>\n",
       "      <th>2</th>\n",
       "      <th>3</th>\n",
       "      <th>4</th>\n",
       "      <th>5</th>\n",
       "      <th>6</th>\n",
       "      <th>7</th>\n",
       "      <th>8</th>\n",
       "      <th>9</th>\n",
       "      <th>10</th>\n",
       "      <th>11</th>\n",
       "    </tr>\n",
       "  </thead>\n",
       "  <tbody>\n",
       "    <tr>\n",
       "      <th>0</th>\n",
       "      <td>29.0586</td>\n",
       "      <td>3.511970</td>\n",
       "      <td>1.503010</td>\n",
       "      <td>5.69919</td>\n",
       "      <td>40.3892</td>\n",
       "      <td>3.41479</td>\n",
       "      <td>1.47023</td>\n",
       "      <td>12.53740</td>\n",
       "      <td>45.4608</td>\n",
       "      <td>3.379820</td>\n",
       "      <td>1.470130</td>\n",
       "      <td>13.24440</td>\n",
       "    </tr>\n",
       "    <tr>\n",
       "      <th>1</th>\n",
       "      <td>47.9465</td>\n",
       "      <td>0.776638</td>\n",
       "      <td>-1.251970</td>\n",
       "      <td>6.72517</td>\n",
       "      <td>40.3892</td>\n",
       "      <td>3.41479</td>\n",
       "      <td>1.47023</td>\n",
       "      <td>12.53740</td>\n",
       "      <td>56.2643</td>\n",
       "      <td>0.811412</td>\n",
       "      <td>-1.324120</td>\n",
       "      <td>10.55060</td>\n",
       "    </tr>\n",
       "    <tr>\n",
       "      <th>2</th>\n",
       "      <td>29.5200</td>\n",
       "      <td>-1.084730</td>\n",
       "      <td>1.834230</td>\n",
       "      <td>4.06446</td>\n",
       "      <td>29.3586</td>\n",
       "      <td>-1.17862</td>\n",
       "      <td>1.84039</td>\n",
       "      <td>9.95503</td>\n",
       "      <td>34.6377</td>\n",
       "      <td>-1.131020</td>\n",
       "      <td>1.801820</td>\n",
       "      <td>7.65844</td>\n",
       "    </tr>\n",
       "    <tr>\n",
       "      <th>3</th>\n",
       "      <td>23.2719</td>\n",
       "      <td>-2.822960</td>\n",
       "      <td>0.216718</td>\n",
       "      <td>3.50878</td>\n",
       "      <td>20.9593</td>\n",
       "      <td>2.13374</td>\n",
       "      <td>-2.86886</td>\n",
       "      <td>9.55921</td>\n",
       "      <td>27.4120</td>\n",
       "      <td>-2.842550</td>\n",
       "      <td>0.345529</td>\n",
       "      <td>5.18675</td>\n",
       "    </tr>\n",
       "    <tr>\n",
       "      <th>4</th>\n",
       "      <td>30.4644</td>\n",
       "      <td>2.985000</td>\n",
       "      <td>1.306930</td>\n",
       "      <td>4.11101</td>\n",
       "      <td>35.2909</td>\n",
       "      <td>2.96499</td>\n",
       "      <td>1.36464</td>\n",
       "      <td>10.69580</td>\n",
       "      <td>30.3263</td>\n",
       "      <td>3.040300</td>\n",
       "      <td>1.341270</td>\n",
       "      <td>5.74890</td>\n",
       "    </tr>\n",
       "  </tbody>\n",
       "</table>\n",
       "</div>"
      ],
      "text/plain": [
       "        0         1         2        3        4        5        6         7   \\\n",
       "0  29.0586  3.511970  1.503010  5.69919  40.3892  3.41479  1.47023  12.53740   \n",
       "1  47.9465  0.776638 -1.251970  6.72517  40.3892  3.41479  1.47023  12.53740   \n",
       "2  29.5200 -1.084730  1.834230  4.06446  29.3586 -1.17862  1.84039   9.95503   \n",
       "3  23.2719 -2.822960  0.216718  3.50878  20.9593  2.13374 -2.86886   9.55921   \n",
       "4  30.4644  2.985000  1.306930  4.11101  35.2909  2.96499  1.36464  10.69580   \n",
       "\n",
       "        8         9         10        11  \n",
       "0  45.4608  3.379820  1.470130  13.24440  \n",
       "1  56.2643  0.811412 -1.324120  10.55060  \n",
       "2  34.6377 -1.131020  1.801820   7.65844  \n",
       "3  27.4120 -2.842550  0.345529   5.18675  \n",
       "4  30.3263  3.040300  1.341270   5.74890  "
      ]
     },
     "execution_count": 87,
     "metadata": {},
     "output_type": "execute_result"
    }
   ],
   "source": [
    "df.head()"
   ]
  },
  {
   "cell_type": "code",
   "execution_count": 88,
   "id": "272625f6-cd1b-4352-a5f2-5e9589a7d4f6",
   "metadata": {},
   "outputs": [
    {
     "data": {
      "text/plain": [
       "(   rawRecoDatapT  rawRecoDataeta  rawRecoDataphi  rawRecoDatam  RecoDatapT  \\\n",
       " 0        29.0586        3.511970        1.503010       5.69919     40.3892   \n",
       " 1        47.9465        0.776638       -1.251970       6.72517     40.3892   \n",
       " 2        29.5200       -1.084730        1.834230       4.06446     29.3586   \n",
       " 3        23.2719       -2.822960        0.216718       3.50878     20.9593   \n",
       " 4        30.4644        2.985000        1.306930       4.11101     35.2909   \n",
       " \n",
       "    RecoDataeta  RecoDataphi  RecoDatam  genDatapT  genDataeta  genDataphi  \\\n",
       " 0      3.41479      1.47023   12.53740    45.4608    3.379820    1.470130   \n",
       " 1      3.41479      1.47023   12.53740    56.2643    0.811412   -1.324120   \n",
       " 2     -1.17862      1.84039    9.95503    34.6377   -1.131020    1.801820   \n",
       " 3      2.13374     -2.86886    9.55921    27.4120   -2.842550    0.345529   \n",
       " 4      2.96499      1.36464   10.69580    30.3263    3.040300    1.341270   \n",
       " \n",
       "    genDatam  \n",
       " 0  13.24440  \n",
       " 1  10.55060  \n",
       " 2   7.65844  \n",
       " 3   5.18675  \n",
       " 4   5.74890  ,\n",
       " (100000, 12))"
      ]
     },
     "execution_count": 88,
     "metadata": {},
     "output_type": "execute_result"
    }
   ],
   "source": [
    "df.columns = columns\n",
    "df.head(), df.shape"
   ]
  },
  {
   "cell_type": "code",
   "execution_count": 89,
   "id": "4808250f-737f-4516-b26b-dd6d02351701",
   "metadata": {},
   "outputs": [
    {
     "data": {
      "text/plain": [
       "array([0.53652539, 0.13053623, 0.50016227, ..., 0.11958587, 0.5541255 ,\n",
       "       0.05202467])"
      ]
     },
     "execution_count": 89,
     "metadata": {},
     "output_type": "execute_result"
    }
   ],
   "source": [
    "tau = np.random.uniform(0,1, size = df.shape[0])\n",
    "tau"
   ]
  },
  {
   "cell_type": "code",
   "execution_count": 90,
   "id": "4c0a899c-bd13-4fee-8894-088456d5b3a9",
   "metadata": {},
   "outputs": [
    {
     "data": {
      "text/html": [
       "<div>\n",
       "<style scoped>\n",
       "    .dataframe tbody tr th:only-of-type {\n",
       "        vertical-align: middle;\n",
       "    }\n",
       "\n",
       "    .dataframe tbody tr th {\n",
       "        vertical-align: top;\n",
       "    }\n",
       "\n",
       "    .dataframe thead th {\n",
       "        text-align: right;\n",
       "    }\n",
       "</style>\n",
       "<table border=\"1\" class=\"dataframe\">\n",
       "  <thead>\n",
       "    <tr style=\"text-align: right;\">\n",
       "      <th></th>\n",
       "      <th>rawRecoDatapT</th>\n",
       "      <th>rawRecoDataeta</th>\n",
       "      <th>rawRecoDataphi</th>\n",
       "      <th>rawRecoDatam</th>\n",
       "      <th>RecoDatapT</th>\n",
       "      <th>RecoDataeta</th>\n",
       "      <th>RecoDataphi</th>\n",
       "      <th>RecoDatam</th>\n",
       "      <th>genDatapT</th>\n",
       "      <th>genDataeta</th>\n",
       "      <th>genDataphi</th>\n",
       "      <th>genDatam</th>\n",
       "      <th>tau</th>\n",
       "    </tr>\n",
       "  </thead>\n",
       "  <tbody>\n",
       "    <tr>\n",
       "      <th>0</th>\n",
       "      <td>29.0586</td>\n",
       "      <td>3.511970</td>\n",
       "      <td>1.503010</td>\n",
       "      <td>5.69919</td>\n",
       "      <td>40.3892</td>\n",
       "      <td>3.41479</td>\n",
       "      <td>1.47023</td>\n",
       "      <td>12.53740</td>\n",
       "      <td>45.4608</td>\n",
       "      <td>3.379820</td>\n",
       "      <td>1.470130</td>\n",
       "      <td>13.24440</td>\n",
       "      <td>0.536525</td>\n",
       "    </tr>\n",
       "    <tr>\n",
       "      <th>1</th>\n",
       "      <td>47.9465</td>\n",
       "      <td>0.776638</td>\n",
       "      <td>-1.251970</td>\n",
       "      <td>6.72517</td>\n",
       "      <td>40.3892</td>\n",
       "      <td>3.41479</td>\n",
       "      <td>1.47023</td>\n",
       "      <td>12.53740</td>\n",
       "      <td>56.2643</td>\n",
       "      <td>0.811412</td>\n",
       "      <td>-1.324120</td>\n",
       "      <td>10.55060</td>\n",
       "      <td>0.130536</td>\n",
       "    </tr>\n",
       "    <tr>\n",
       "      <th>2</th>\n",
       "      <td>29.5200</td>\n",
       "      <td>-1.084730</td>\n",
       "      <td>1.834230</td>\n",
       "      <td>4.06446</td>\n",
       "      <td>29.3586</td>\n",
       "      <td>-1.17862</td>\n",
       "      <td>1.84039</td>\n",
       "      <td>9.95503</td>\n",
       "      <td>34.6377</td>\n",
       "      <td>-1.131020</td>\n",
       "      <td>1.801820</td>\n",
       "      <td>7.65844</td>\n",
       "      <td>0.500162</td>\n",
       "    </tr>\n",
       "    <tr>\n",
       "      <th>3</th>\n",
       "      <td>23.2719</td>\n",
       "      <td>-2.822960</td>\n",
       "      <td>0.216718</td>\n",
       "      <td>3.50878</td>\n",
       "      <td>20.9593</td>\n",
       "      <td>2.13374</td>\n",
       "      <td>-2.86886</td>\n",
       "      <td>9.55921</td>\n",
       "      <td>27.4120</td>\n",
       "      <td>-2.842550</td>\n",
       "      <td>0.345529</td>\n",
       "      <td>5.18675</td>\n",
       "      <td>0.490624</td>\n",
       "    </tr>\n",
       "    <tr>\n",
       "      <th>4</th>\n",
       "      <td>30.4644</td>\n",
       "      <td>2.985000</td>\n",
       "      <td>1.306930</td>\n",
       "      <td>4.11101</td>\n",
       "      <td>35.2909</td>\n",
       "      <td>2.96499</td>\n",
       "      <td>1.36464</td>\n",
       "      <td>10.69580</td>\n",
       "      <td>30.3263</td>\n",
       "      <td>3.040300</td>\n",
       "      <td>1.341270</td>\n",
       "      <td>5.74890</td>\n",
       "      <td>0.417064</td>\n",
       "    </tr>\n",
       "  </tbody>\n",
       "</table>\n",
       "</div>"
      ],
      "text/plain": [
       "   rawRecoDatapT  rawRecoDataeta  rawRecoDataphi  rawRecoDatam  RecoDatapT  \\\n",
       "0        29.0586        3.511970        1.503010       5.69919     40.3892   \n",
       "1        47.9465        0.776638       -1.251970       6.72517     40.3892   \n",
       "2        29.5200       -1.084730        1.834230       4.06446     29.3586   \n",
       "3        23.2719       -2.822960        0.216718       3.50878     20.9593   \n",
       "4        30.4644        2.985000        1.306930       4.11101     35.2909   \n",
       "\n",
       "   RecoDataeta  RecoDataphi  RecoDatam  genDatapT  genDataeta  genDataphi  \\\n",
       "0      3.41479      1.47023   12.53740    45.4608    3.379820    1.470130   \n",
       "1      3.41479      1.47023   12.53740    56.2643    0.811412   -1.324120   \n",
       "2     -1.17862      1.84039    9.95503    34.6377   -1.131020    1.801820   \n",
       "3      2.13374     -2.86886    9.55921    27.4120   -2.842550    0.345529   \n",
       "4      2.96499      1.36464   10.69580    30.3263    3.040300    1.341270   \n",
       "\n",
       "   genDatam       tau  \n",
       "0  13.24440  0.536525  \n",
       "1  10.55060  0.130536  \n",
       "2   7.65844  0.500162  \n",
       "3   5.18675  0.490624  \n",
       "4   5.74890  0.417064  "
      ]
     },
     "execution_count": 90,
     "metadata": {},
     "output_type": "execute_result"
    }
   ],
   "source": [
    "df['tau'] = tau\n",
    "df.head()"
   ]
  },
  {
   "cell_type": "code",
   "execution_count": 91,
   "id": "93f96752-4d9e-4a43-80dd-47c188823379",
   "metadata": {},
   "outputs": [],
   "source": [
    "df.to_csv('Data.csv')"
   ]
  },
  {
   "cell_type": "markdown",
   "id": "2f2d5b24-487c-474d-81da-86af12b9b593",
   "metadata": {},
   "source": [
    "# Load Data"
   ]
  },
  {
   "cell_type": "code",
   "execution_count": 92,
   "id": "61f360d1-f260-47de-a06e-e3f2138c22f6",
   "metadata": {},
   "outputs": [
    {
     "data": {
      "text/plain": [
       "0        40.3892\n",
       "1        40.3892\n",
       "2        29.3586\n",
       "3        20.9593\n",
       "4        35.2909\n",
       "          ...   \n",
       "99995    23.5554\n",
       "99996    23.5554\n",
       "99997    27.0034\n",
       "99998    23.8815\n",
       "99999    33.2208\n",
       "Name: RecoDatapT, Length: 100000, dtype: float64"
      ]
     },
     "execution_count": 92,
     "metadata": {},
     "output_type": "execute_result"
    }
   ],
   "source": [
    "data = pd.read_csv('Data.csv')\n",
    "recpt = data['RecoDatapT']\n",
    "genpt= data['genDatapT']\n",
    "recpt"
   ]
  },
  {
   "cell_type": "code",
   "execution_count": 93,
   "id": "85e39367-b17e-4135-8029-4fc647b5d107",
   "metadata": {},
   "outputs": [],
   "source": [
    "rechist, bins = np.histogram(recpt, bins=100)\n",
    "genhist, _ = np.histogram(genpt, bins=100)"
   ]
  },
  {
   "cell_type": "code",
   "execution_count": null,
   "id": "2b071582-7c84-4d7a-a272-ccb926551dc4",
   "metadata": {},
   "outputs": [
    {
     "data": {
      "text/plain": [
       "Text(0, 0.5, '$p_T^{rec}/p_T^{gen}$')"
      ]
     },
     "execution_count": 95,
     "metadata": {},
     "output_type": "execute_result"
    },
    {
     "data": {
      "image/png": "[encoded data removed]",
      "text/plain": [
       "<Figure size 432x288 with 1 Axes>"
      ]
     },
     "metadata": {
      "needs_background": "light"
     },
     "output_type": "display_data"
    }
   ],
   "source": [
    "np=  rechist/(genhist+1e-10)\n",
    "plt.hist(np)\n",
    "plt.ylabel(r'$p_T^{rec}/p_T^{gen}$', fontsize=14)"
   ]
  },
  {
   "cell_type": "code",
   "execution_count": null,
   "id": "f099f469-431e-4660-9f73-0ba782a52122",
   "metadata": {},
   "outputs": [],
   "source": []
  }
 ],
 "metadata": {
  "kernelspec": {
   "display_name": "Python 3 (ipykernel)",
   "language": "python",
   "name": "python3"
  },
  "language_info": {
   "codemirror_mode": {
    "name": "ipython",
    "version": 3
   },
   "file_extension": ".py",
   "mimetype": "text/x-python",
   "name": "python",
   "nbconvert_exporter": "python",
   "pygments_lexer": "ipython3",
   "version": "3.7.7"
  }
 },
 "nbformat": 4,
 "nbformat_minor": 5
}
